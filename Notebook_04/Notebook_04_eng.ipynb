{
 "cells": [
  {
   "cell_type": "markdown",
   "id": "bf9023a3",
   "metadata": {},
   "source": [
    "# Notebook_04 - Binding"
   ]
  },
  {
   "cell_type": "markdown",
   "id": "f87e3ffa",
   "metadata": {},
   "source": [
    "Usually applications have shortcuts binded to buttons or certain actions. That is, if some key is pressed, the action is issued. For instance, jupyter notebook has some shortcuts (they differ depending on the operating system), to see them, hover above `File`, `Edit` or other sections of jupyter's toolbar.\n",
    "\n",
    "Tkinter allows for similar binding. You can link certain key combination to action and widget (it is advanced topic, but in short you can have diferrent bindings for different windows in your application, or even different sectors of one window)."
   ]
  },
  {
   "cell_type": "markdown",
   "id": "80404d04",
   "metadata": {},
   "source": [
    "## Warning\n",
    "\n",
    "Although the standart keysare pretty mych the same across platforms, they can still differ, some keyboards may not have certain keys, and some keys may be encoded not as you think. If you are curious, refer to https://www.tcl.tk/man/tcl8.4/TkCmd/keysyms.html"
   ]
  },
  {
   "cell_type": "markdown",
   "id": "d0a93f33",
   "metadata": {},
   "source": [
    "### Simple start\n",
    "\n",
    "To illustrate the idea of binding, the first program will just show the relative position of mouse click"
   ]
  },
  {
   "cell_type": "code",
   "execution_count": 1,
   "id": "4070ff5e",
   "metadata": {},
   "outputs": [],
   "source": [
    "import tkinter as tk\n",
    "\n",
    "app = tk.Tk()\n",
    "app.title('Notebook_04')\n",
    "app.geometry('300x300')\n",
    "\n",
    "\n",
    "def increment(event):\n",
    "    x = event.x\n",
    "    y = event.y\n",
    "    label.configure(text=f'X: {x}, Y: {y}')\n",
    "\n",
    "\n",
    "label = tk.Label(app, text='?')\n",
    "label.pack(expand=True, fill='both')\n",
    "\n",
    "app.bind('<Button-1>', increment)\n",
    "\n",
    "app.mainloop()\n"
   ]
  },
  {
   "cell_type": "markdown",
   "id": "f20be122",
   "metadata": {},
   "source": [
    "When you click on the application with your left mouse button, the `Label`'s text will change to coordinates of your click. Such bindings can be used in so many ways, but to get a full picture we also need to have an example of working key binding. Let us add binding that will change color of the label."
   ]
  },
  {
   "cell_type": "code",
   "execution_count": 4,
   "id": "7ae30279",
   "metadata": {},
   "outputs": [],
   "source": [
    "import tkinter as tk\n",
    "import random\n",
    "\n",
    "app = tk.Tk()\n",
    "app.title('Notebook_04')\n",
    "app.geometry('300x300')\n",
    "\n",
    "\n",
    "def increment(event):\n",
    "    x = event.x\n",
    "    y = event.y\n",
    "    label.configure(text=f'X: {x}, Y: {y}')\n",
    "\n",
    "\n",
    "label = tk.Label(app, text='?')\n",
    "label.pack(expand=True, fill='both')\n",
    "\n",
    "app.bind('<Button-1>', increment)\n",
    "\n",
    "\n",
    "def change_color(event):\n",
    "    colors = ['red', 'green', 'blue']\n",
    "    col = random.choice(colors)\n",
    "    label.configure(background=col)\n",
    "\n",
    "\n",
    "app.bind('f', change_color)\n",
    "\n",
    "app.mainloop()"
   ]
  },
  {
   "cell_type": "markdown",
   "id": "f4c072c6",
   "metadata": {},
   "source": [
    "You may have noticed little `event` that gets passed with every bind function. This is necessary in order to let tkinter pass an event information (that is how we obtained information about click coordinates). Keep in mind, that programmer does not have to pass anything in this function, it is purely done by tkinter."
   ]
  },
  {
   "cell_type": "markdown",
   "id": "f411a5ee",
   "metadata": {},
   "source": [
    "## Tasks"
   ]
  },
  {
   "cell_type": "markdown",
   "id": "e5990975",
   "metadata": {},
   "source": [
    "1. Create application that changes the name of the label based on arrow pressed (up, down, left, right)\n",
    "2. Create application that changes color of label to red if clicked in the bottom half of the app, and blue if in the upper\n",
    "3. Recreate one of the applications from the previous notebooks changing buttons to binds\n",
    "4. Create interactive number generator"
   ]
  },
  {
   "cell_type": "markdown",
   "id": "37dd9f3b",
   "metadata": {},
   "source": [
    "## Task 4"
   ]
  },
  {
   "cell_type": "code",
   "execution_count": null,
   "id": "5bda1534",
   "metadata": {},
   "outputs": [],
   "source": [
    "import tkinter as tk\n",
    "import random\n",
    "\n",
    "\n",
    "app = tk.Tk()\n",
    "app.title('Number_generator')\n",
    "app.geometry('300x300')\n",
    "\n",
    "label = tk.Label(app, text='Number will be displayed here')\n",
    "label.pack(expand=True, fill='both')\n",
    "\n",
    "\n",
    "def get_random_number(event = None):\n",
    "    new_number = random.randint(0, 10)\n",
    "    label.configure(text=f'Generated number is {new_number}')\n",
    "\n",
    "\n",
    "button = tk.Button(app, command=get_random_number)\n",
    "button.pack(expand=True, fill='both')\n",
    "\n",
    "app.bind('g', get_random_number)\n",
    "\n",
    "app.mainloop()"
   ]
  },
  {
   "cell_type": "markdown",
   "id": "cba3e34a",
   "metadata": {},
   "source": [
    "Note, that here function is defined as `get_random_number(event = None):`, because button command should not contain arguments, but bind should, so when button is pressed, `None` is passed to the function, instead of usual event.\n",
    "Passing default argument is a good practice, as you can create functions with many parameters, but still invoke it with just a couple of them."
   ]
  }
 ],
 "metadata": {
  "kernelspec": {
   "display_name": "Python 3 (ipykernel)",
   "language": "python",
   "name": "python3"
  },
  "language_info": {
   "codemirror_mode": {
    "name": "ipython",
    "version": 3
   },
   "file_extension": ".py",
   "mimetype": "text/x-python",
   "name": "python",
   "nbconvert_exporter": "python",
   "pygments_lexer": "ipython3",
   "version": "3.9.5"
  }
 },
 "nbformat": 4,
 "nbformat_minor": 5
}
