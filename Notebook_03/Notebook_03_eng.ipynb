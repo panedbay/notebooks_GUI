{
 "cells": [
  {
   "cell_type": "markdown",
   "id": "5981aa0e",
   "metadata": {},
   "source": [
    "# Notebook_03 - First Entry\n",
    "\n",
    "Now that we know how to create buttons and labels we need some way for user to input text, or arbitary number of characters. For this purpose tkinter has Entry widget."
   ]
  },
  {
   "cell_type": "markdown",
   "id": "16d96ae2",
   "metadata": {},
   "source": [
    "### Let us create simple example of program with entry (without any interraction with it)"
   ]
  },
  {
   "cell_type": "code",
   "execution_count": 7,
   "id": "bb22114d",
   "metadata": {},
   "outputs": [],
   "source": [
    "import tkinter as tk\n",
    "\n",
    "app = tk.Tk()\n",
    "app.title('Notebook_03')\n",
    "app.geometry('300x300')\n",
    "\n",
    "\n",
    "entry = tk.Entry(app)\n",
    "entry.pack(expand=True, fill='both')\n",
    "\n",
    "def change_text():\n",
    "    new_text = entry.get() # returns current contents of entry\n",
    "    label.configure(text=new_text)\n",
    "\n",
    "button = tk.Button(app, text='Change label contents', command=change_text)\n",
    "button.pack(expand=True, fill='both')\n",
    "\n",
    "label = tk.Label(app, text='Message will be here')\n",
    "label.pack(expand=True, fill='both')\n",
    "\n",
    "app.mainloop()"
   ]
  },
  {
   "cell_type": "markdown",
   "id": "b05005b2",
   "metadata": {},
   "source": [
    "In this example label's text changes based on contents of entry. To apply changes simply click the button.\n",
    "\n",
    "It is also possible to hide the contents with password-like field. Just modify entry slightly:"
   ]
  },
  {
   "cell_type": "code",
   "execution_count": 8,
   "id": "c4f2945c",
   "metadata": {},
   "outputs": [],
   "source": [
    "import tkinter as tk\n",
    "\n",
    "app = tk.Tk()\n",
    "app.title('Notebook_03')\n",
    "app.geometry('300x300')\n",
    "\n",
    "\n",
    "entry = tk.Entry(app, show='*') # add show='*' to hide contents\n",
    "entry.pack(expand=True, fill='both')\n",
    "\n",
    "def change_text():\n",
    "    new_text = entry.get()\n",
    "    label.configure(text=new_text)\n",
    "\n",
    "button = tk.Button(app, text='Change label contents', command=change_text)\n",
    "button.pack(expand=True, fill='both')\n",
    "\n",
    "label = tk.Label(app, text='Message will be here')\n",
    "label.pack(expand=True, fill='both')\n",
    "\n",
    "app.mainloop()"
   ]
  },
  {
   "cell_type": "markdown",
   "id": "4956471a",
   "metadata": {},
   "source": [
    "Now let us create something more familiar. Your operating system probably has some kind of login screen, where you need to input login and password in order to proceed."
   ]
  },
  {
   "cell_type": "code",
   "execution_count": 2,
   "id": "58c58bcf",
   "metadata": {},
   "outputs": [],
   "source": [
    "import tkinter as tk\n",
    "\n",
    "app = tk.Tk()\n",
    "app.title('Notebook_03')\n",
    "app.geometry('300x300')\n",
    "\n",
    "# Initial values\n",
    "login = 'notebook_3'\n",
    "password = '987654'\n",
    "\n",
    "login_label = tk.Label(app, text='Login:', background='white smoke')  # better visibility\n",
    "login_label.pack(expand=True, fill='both')\n",
    "\n",
    "login_entry = tk.Entry(app)\n",
    "login_entry.pack(expand=True, fill='both')\n",
    "\n",
    "password_label = tk.Label(app, text='Password:', background='white smoke')  # better visibility\n",
    "password_label.pack(expand=True, fill='both')\n",
    "\n",
    "password_entry = tk.Entry(app, show='*')  # add show='*' to hide contents\n",
    "password_entry.pack(expand=True, fill='both')\n",
    "\n",
    "\n",
    "# Function for verification\n",
    "def check_credentials():\n",
    "    log = login_entry.get()\n",
    "    pas = password_entry.get()\n",
    "    if log == login and pas == password:\n",
    "        label.configure(text='Success!!!')\n",
    "    else:\n",
    "        label.configure(text='Invalid combination of credentials')\n",
    "\n",
    "\n",
    "button = tk.Button(app, text='Login', command=check_credentials)\n",
    "button.pack(expand=True, fill='both')\n",
    "\n",
    "label = tk.Label(app, text='Status of login will be displayed here')\n",
    "label.pack(expand=True, fill='both')\n",
    "\n",
    "app.mainloop()\n"
   ]
  },
  {
   "cell_type": "markdown",
   "id": "d6226182",
   "metadata": {},
   "source": [
    "But this application is not really realistic. Let us create something fun. Tkinter color picker. Tkinter has many colors under aliases, so it is possible not to type hexadecimal code of the color, but rather the alias, sych as red, blue, cyan, white smoke, etc.\n",
    "\n",
    "Note that colors can be both lower and upper case!"
   ]
  },
  {
   "cell_type": "code",
   "execution_count": 3,
   "id": "f4a75af6",
   "metadata": {},
   "outputs": [],
   "source": [
    "import tkinter as tk\n",
    "\n",
    "app = tk.Tk()\n",
    "app.title('Notebook_03')\n",
    "app.geometry('300x300')\n",
    "\n",
    "color_label = tk.Label(app, text='The background of this label will be changed', background='white smoke')\n",
    "color_label.pack(expand=True, fill='both')\n",
    "\n",
    "color_entry = tk.Entry(app)\n",
    "color_entry.pack(expand=True, fill='both')\n",
    "\n",
    "\n",
    "def change_label_color():\n",
    "    col = color_entry.get()\n",
    "    try:\n",
    "        color_label.configure(background=col)\n",
    "        color_label.configure(text=f'Color is {col}')\n",
    "    except:\n",
    "        color_label.configure(background='white')\n",
    "        color_label.configure(text=f'No color named {col}  :(')\n",
    "\n",
    "\n",
    "color_button = tk.Button(app, text='Try to change the color', command=change_label_color)\n",
    "color_button.pack(expand=True, fill='both')\n",
    "\n",
    "app.mainloop()"
   ]
  },
  {
   "cell_type": "markdown",
   "id": "de77c3a0",
   "metadata": {},
   "source": [
    "## Tasks"
   ]
  },
  {
   "cell_type": "markdown",
   "id": "c0fa2eaa",
   "metadata": {},
   "source": [
    "1. Play with `Entry` widget\n",
    "2. Create an application that sets `Label`'s text as a concatenation of two strings\n",
    "3. Create an application that reverses contents of `Entry` and leaves reversed text in the same `Entry`"
   ]
  },
  {
   "cell_type": "markdown",
   "id": "9cdbad1e",
   "metadata": {},
   "source": [
    "## Solutions"
   ]
  },
  {
   "cell_type": "markdown",
   "id": "b0691762",
   "metadata": {},
   "source": [
    "### Task 3"
   ]
  },
  {
   "cell_type": "code",
   "execution_count": null,
   "id": "bec02ad9",
   "metadata": {},
   "outputs": [],
   "source": [
    "import tkinter as tk\n",
    "\n",
    "app = tk.Tk()\n",
    "app.title('Notebook_03')\n",
    "app.geometry('300x300')\n",
    "\n",
    "text_entry = tk.Entry(app)\n",
    "text_entry.pack(expand=True, fill='both')\n",
    "\n",
    "\n",
    "def reverse_contents():\n",
    "    text_reversed = text_entry.get()\n",
    "    text_reversed = text_reversed[::-1]\n",
    "    text_entry.delete(0, tk.END)  # delete everything\n",
    "    text_entry.insert(0, text_reversed)  # new value\n",
    "\n",
    "\n",
    "text_button = tk.Button(app, text='Reverse!', command=reverse_contents)\n",
    "text_button.pack(expand=True, fill='both')\n",
    "\n",
    "app.mainloop()"
   ]
  }
 ],
 "metadata": {
  "kernelspec": {
   "display_name": "Python 3 (ipykernel)",
   "language": "python",
   "name": "python3"
  },
  "language_info": {
   "codemirror_mode": {
    "name": "ipython",
    "version": 3
   },
   "file_extension": ".py",
   "mimetype": "text/x-python",
   "name": "python",
   "nbconvert_exporter": "python",
   "pygments_lexer": "ipython3",
   "version": "3.9.5"
  }
 },
 "nbformat": 4,
 "nbformat_minor": 5
}
