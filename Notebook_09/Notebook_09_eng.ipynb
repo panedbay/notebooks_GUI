{
 "cells": [
  {
   "cell_type": "markdown",
   "id": "2a247c4a",
   "metadata": {},
   "source": [
    "# Notebook_09 - Dialogs"
   ]
  },
  {
   "cell_type": "markdown",
   "id": "0e369e7e",
   "metadata": {},
   "source": [
    "Dialogs are widgets that allow for easier separation of content. They are quite common in modern applications, as dialog can shift the focus of user fast, without much action and resource use. Let us create our first dialog."
   ]
  },
  {
   "cell_type": "code",
   "execution_count": null,
   "id": "faa3e34f",
   "metadata": {},
   "outputs": [],
   "source": [
    "import tkinter as tk\n",
    "import tkinter.messagebox as msb\n",
    "\n",
    "app = tk.Tk()\n",
    "app.title('Notebook_09')\n",
    "app.geometry('500x500')\n",
    "\n",
    "message = msb.Message(title='confirmation',\n",
    "                      message='Simple dialog window')\n",
    "message.show()\n",
    "\n",
    "app.mainloop()\n"
   ]
  },
  {
   "cell_type": "markdown",
   "id": "64db0e27",
   "metadata": {},
   "source": [
    "Such popups are used even in most operating systems, for instance, any action prevention, such as making sure that user wants to delete some file is followed by dialog window, that ensures the choice.\n",
    "\n",
    "There are a couple of standard built-in messageboxes in tkinter:\n",
    "\n",
    "1. tkinter.messagebox.Message\n",
    "2. tkinter.messagebox.showinfo\n",
    "3. tkinter.messagebox.showwarning\n",
    "4. tkinter.messagebox.showerror\n",
    "5. tkinter.messagebox.askquestion\n",
    "6. tkinter.messagebox.askokcancel\n",
    "7. tkinter.messagebox.askretrycancel\n",
    "8. tkinter.messagebox.askyesno\n",
    "9. tkinter.messagebox.askyesnocancel\n",
    "\n",
    "They do not differ much and serve their own purposes. The general settings applied are similar across the types of dialog windows.\n",
    "\n",
    "Now let us create simple `askyesno` dialog"
   ]
  },
  {
   "cell_type": "code",
   "execution_count": null,
   "id": "bfa3683e",
   "metadata": {},
   "outputs": [],
   "source": [
    "import tkinter as tk\n",
    "import tkinter.messagebox as msb\n",
    "\n",
    "app = tk.Tk()\n",
    "app.title('Notebook_09')\n",
    "app.geometry('500x500')\n",
    "\n",
    "label = tk.Label(app, text='Placeholder for dialog result')\n",
    "label.pack(expand=True, fill='both')\n",
    "\n",
    "message = msb.askyesno(title='confirmation',\n",
    "                       message='Simple dialog window (Yes or No)')\n",
    "\n",
    "label.configure(text=message)\n",
    "\n",
    "\n",
    "app.mainloop()\n"
   ]
  },
  {
   "cell_type": "markdown",
   "id": "57d14a2e",
   "metadata": {},
   "source": [
    "This dialog returns `False` if user clicked `No` and `True` if user picked `Yes`. This can be easily used with any conditional statement in python, for example you can make dialog window that will ensure that user wants to delete something inside your application.\n",
    "\n",
    "Now let us create error dialog. It is pretty much similar to `Message` but have different style."
   ]
  },
  {
   "cell_type": "code",
   "execution_count": null,
   "id": "bea5617f",
   "metadata": {},
   "outputs": [],
   "source": [
    "import tkinter as tk\n",
    "import tkinter.messagebox as msb\n",
    "\n",
    "app = tk.Tk()\n",
    "app.title('Notebook_09')\n",
    "app.geometry('500x500')\n",
    "\n",
    "\n",
    "message = msb.showerror(title='confirmation',\n",
    "                        message='Error!')\n",
    "\n",
    "app.mainloop()\n"
   ]
  },
  {
   "cell_type": "markdown",
   "id": "c09efbd3",
   "metadata": {},
   "source": [
    "All these widgets are similar to each other and can be even constructed by user. To put it simply, each dialog window is just a window with buttons and a label. There are functions that are binded to buttons, there is a class, from which object (dialog) is made. So if you really need a highly customized dialog for your application you can create one by yourself. But usually, it is not worth the time, as standard ones cover most of the cases"
   ]
  },
  {
   "cell_type": "markdown",
   "id": "5cbc4f86",
   "metadata": {},
   "source": [
    "Now it is time to prepare for the final project - look through past notebooks, code examples on your own, experiment with different arguments and options. Remember, that tkinter is an open-source framework, so even if you have some exotic error or question, you can always look up the answer on the internet. Do not be afraid to ask questions, or question practices given in these notebooks. There is no \"true way\" of coding in python, as even most experienced developers have arguments about codestyles and implementations still to this day. Best thing you can do is read code and write your own. Do not forget that you can even look up the tkinter module code on your computer (however, due to the scale of tkinter, the code is rather complex for beginners)"
   ]
  },
  {
   "cell_type": "markdown",
   "id": "47cdf204",
   "metadata": {},
   "source": [
    "Next notebook is final in the series, it will be made as a small pet project. You can think of the topic of your choice, or try to implement similar applcation."
   ]
  },
  {
   "cell_type": "markdown",
   "id": "4e5e068a",
   "metadata": {},
   "source": [
    "## Tasks"
   ]
  },
  {
   "cell_type": "markdown",
   "id": "f852c186",
   "metadata": {},
   "source": [
    "1. Look through all the notes and notebooks, refresh your knowledge on the subject, read https://docs.python.org/3/library/tk.html"
   ]
  }
 ],
 "metadata": {
  "kernelspec": {
   "display_name": "Python 3 (ipykernel)",
   "language": "python",
   "name": "python3"
  },
  "language_info": {
   "codemirror_mode": {
    "name": "ipython",
    "version": 3
   },
   "file_extension": ".py",
   "mimetype": "text/x-python",
   "name": "python",
   "nbconvert_exporter": "python",
   "pygments_lexer": "ipython3",
   "version": "3.9.5"
  }
 },
 "nbformat": 4,
 "nbformat_minor": 5
}
