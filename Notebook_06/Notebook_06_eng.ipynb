{
 "cells": [
  {
   "cell_type": "markdown",
   "id": "dd33c7d5",
   "metadata": {},
   "source": [
    "# Notebook_06 - Canvas"
   ]
  },
  {
   "cell_type": "markdown",
   "id": "25c1f96e",
   "metadata": {},
   "source": [
    "Now that we have many widgets for interraction, we might need a widget that will make the application more unique. Canvas, as in the real world allows for any drawing imaginable. While some applications omit this widget and prefer using preloaded images instead of custom drawing, canvas is a great tool for small visualization projects."
   ]
  },
  {
   "cell_type": "code",
   "execution_count": 3,
   "id": "5da65aaa",
   "metadata": {},
   "outputs": [],
   "source": [
    "import tkinter as tk\n",
    "import random\n",
    "\n",
    "app = tk.Tk()\n",
    "app.title('Notebook_06')\n",
    "app.geometry('500x500')\n",
    "app.resizable(False, False) # make window not resizable, to make canvas constant size\n",
    "\n",
    "\n",
    "canvas = tk.Canvas(app, bg='grey')\n",
    "canvas.pack(expand=True, fill='both')\n",
    "\n",
    "\n",
    "def draw_random():\n",
    "    x, y = random.randint(0, 500), random.randint(0, 500)\n",
    "    canvas.create_line(x, y, x + 1, y - 1, fill='blue')\n",
    "\n",
    "\n",
    "button = tk.Button(app, text='Click me!', command=draw_random)\n",
    "button.pack(expand=True, fill='both')\n",
    "\n",
    "app.mainloop()\n"
   ]
  },
  {
   "cell_type": "markdown",
   "id": "fd17fda8",
   "metadata": {},
   "source": [
    "This application draws tiny blue line on button click. Press it couple times if you think applcation is not working. To make application more simple, application windows is not resizable, so max coordiantes stay same."
   ]
  },
  {
   "cell_type": "markdown",
   "id": "340113c9",
   "metadata": {},
   "source": [
    "There are also methods such as `canvas.create_oval()` and `canvas.create_text()`, which can also useful."
   ]
  },
  {
   "cell_type": "code",
   "execution_count": 4,
   "id": "2d51e2c7",
   "metadata": {},
   "outputs": [],
   "source": [
    "import tkinter as tk\n",
    "import random\n",
    "\n",
    "app = tk.Tk()\n",
    "app.title('Notebook_06')\n",
    "app.geometry('500x500')\n",
    "app.resizable(False, False)\n",
    "\n",
    "canvas = tk.Canvas(app, bg='grey')\n",
    "canvas.pack(expand=True, fill='both')\n",
    "\n",
    "\n",
    "def draw_random():\n",
    "    x, y = random.randint(0, 500), random.randint(0, 500)\n",
    "    canvas.create_oval(x, y, x + 5, y + 5, fill='red')\n",
    "\n",
    "\n",
    "button = tk.Button(app, text='Click me!', command=draw_random)\n",
    "button.pack(expand=True, fill='both')\n",
    "\n",
    "app.mainloop()\n"
   ]
  },
  {
   "cell_type": "markdown",
   "id": "f07d5c4b",
   "metadata": {},
   "source": [
    "Note that oval is created inside rectangle defined by points (x1, y1, x2, y2). Also, unlike real world, Y axis has zero in left upper corner and Y coordiante increases in bottom direction. "
   ]
  },
  {
   "cell_type": "markdown",
   "id": "78e17802",
   "metadata": {},
   "source": [
    "But let us make something fancy. [Sierpiński triangles](https://en.wikipedia.org/wiki/Sierpiński_triangle)."
   ]
  },
  {
   "cell_type": "code",
   "execution_count": 6,
   "id": "490ddc23",
   "metadata": {},
   "outputs": [
    {
     "name": "stderr",
     "output_type": "stream",
     "text": [
      "Exception in Tkinter callback\n",
      "Traceback (most recent call last):\n",
      "  File \"/Library/Frameworks/Python.framework/Versions/3.9/lib/python3.9/tkinter/__init__.py\", line 1892, in __call__\n",
      "    return self.func(*args)\n",
      "  File \"/var/folders/_p/1y6h5fhx31774rfgnbs3t93w0000gn/T/ipykernel_17655/1618865786.py\", line 28, in draw_triangles\n",
      "    canvas.create_oval(current_point[0], current_point[1],\n",
      "  File \"/Library/Frameworks/Python.framework/Versions/3.9/lib/python3.9/tkinter/__init__.py\", line 2798, in create_oval\n",
      "    return self._create('oval', args, kw)\n",
      "  File \"/Library/Frameworks/Python.framework/Versions/3.9/lib/python3.9/tkinter/__init__.py\", line 2776, in _create\n",
      "    return self.tk.getint(self.tk.call(\n",
      "_tkinter.TclError: invalid command name \".!canvas\"\n"
     ]
    }
   ],
   "source": [
    "import tkinter as tk\n",
    "import random\n",
    "\n",
    "app = tk.Tk()\n",
    "app.title('Notebook_06')\n",
    "app.geometry('500x500')\n",
    "app.resizable(False, False)\n",
    "\n",
    "canvas = tk.Canvas(app, bg='grey')\n",
    "canvas.pack(expand=True, fill='both')\n",
    "\n",
    "\n",
    "def draw_triangles():\n",
    "    # Initial triangle\n",
    "    points = [[20, 320], [240, 20], [480, 320]]\n",
    "\n",
    "    steps = 60000\n",
    "\n",
    "    # Depending on the startpoint the result will vary\n",
    "    current_point = [150, 150]\n",
    "\n",
    "    for i in range(steps):\n",
    "        chosen_point = random.choice(points)\n",
    "\n",
    "        current_point[0] += (chosen_point[0] - current_point[0]) // 2\n",
    "        current_point[1] += (chosen_point[1] - current_point[1]) // 2\n",
    "\n",
    "        canvas.create_oval(current_point[0], current_point[1],\n",
    "                           current_point[0] + 1, current_point[1] + 1,\n",
    "                           outline='blue')\n",
    "        # Smooth visualization\n",
    "        if i % 5000 == 0:\n",
    "            canvas.update()\n",
    "\n",
    "\n",
    "button = tk.Button(app, text='Click me!', command=draw_triangles)\n",
    "button.pack(expand=True, fill='both')\n",
    "\n",
    "app.mainloop()\n"
   ]
  },
  {
   "cell_type": "markdown",
   "id": "3db733a8",
   "metadata": {},
   "source": [
    "Now let us create simple triangle using `create_polygon`"
   ]
  },
  {
   "cell_type": "code",
   "execution_count": 7,
   "id": "0a2880f7",
   "metadata": {},
   "outputs": [],
   "source": [
    "import tkinter as tk\n",
    "import random\n",
    "\n",
    "app = tk.Tk()\n",
    "app.title('Notebook_06')\n",
    "app.geometry('500x500')\n",
    "app.resizable(False, False)\n",
    "\n",
    "canvas = tk.Canvas(app, bg='grey')\n",
    "canvas.pack(expand=True, fill='both')\n",
    "\n",
    "# Simple triangle\n",
    "canvas.create_polygon(0, 0, 250, 500, 500, 0, fill='red')\n",
    "\n",
    "app.mainloop()"
   ]
  },
  {
   "cell_type": "markdown",
   "id": "a428ef96",
   "metadata": {},
   "source": [
    "Polygon can have any number of vertices, for example, let us create something more complex."
   ]
  },
  {
   "cell_type": "code",
   "execution_count": 9,
   "id": "c70b7eea",
   "metadata": {},
   "outputs": [],
   "source": [
    "import tkinter as tk\n",
    "import random\n",
    "\n",
    "app = tk.Tk()\n",
    "app.title('Notebook_06')\n",
    "app.geometry('500x500')\n",
    "app.resizable(False, False)\n",
    "\n",
    "canvas = tk.Canvas(app, bg='grey')\n",
    "canvas.pack(expand=True, fill='both')\n",
    "\n",
    "coordinates = [0, 0,\n",
    "     25, 50,\n",
    "     37, 76,\n",
    "     297, 34,\n",
    "     98, 123,\n",
    "     409, 234,\n",
    "     28, 389,\n",
    "     400, 399]\n",
    "canvas.create_polygon(*coordinates, fill='red')\n",
    "\n",
    "app.mainloop()\n"
   ]
  },
  {
   "cell_type": "markdown",
   "id": "a844c71a",
   "metadata": {},
   "source": [
    "Now we see some abstract figure, but nevertheless, the point has been proven. Also, mind how coordiantes are organized. To keep things clean, array of coordinates is used, `*` unpacks coordiantes, same as:"
   ]
  },
  {
   "cell_type": "code",
   "execution_count": 10,
   "id": "39cc16fd",
   "metadata": {},
   "outputs": [
    {
     "name": "stdout",
     "output_type": "stream",
     "text": [
      "0 0 25 50 37 76 297 34 98 123 409 234 28 389 400 399\n"
     ]
    }
   ],
   "source": [
    "coordinates = [0, 0,\n",
    "     25, 50,\n",
    "     37, 76,\n",
    "     297, 34,\n",
    "     98, 123,\n",
    "     409, 234,\n",
    "     28, 389,\n",
    "     400, 399]\n",
    "print(*coordinates)"
   ]
  },
  {
   "cell_type": "markdown",
   "id": "360af001",
   "metadata": {},
   "source": [
    "## Tasks"
   ]
  },
  {
   "cell_type": "markdown",
   "id": "13839df5",
   "metadata": {},
   "source": [
    "1. Create oval that will hit all four sides of canvas\n",
    "2. Draw a hexagon using `create_polygon`\n",
    "3. Draw the same hexagon using `create_line` only\n",
    "4. Create fractal of your choice (hard)"
   ]
  },
  {
   "cell_type": "markdown",
   "id": "6c225e0d",
   "metadata": {},
   "source": [
    "## Task 1"
   ]
  },
  {
   "cell_type": "code",
   "execution_count": 11,
   "id": "54de7d10",
   "metadata": {},
   "outputs": [],
   "source": [
    "import tkinter as tk\n",
    "import random\n",
    "\n",
    "app = tk.Tk()\n",
    "app.title('Notebook_06')\n",
    "app.geometry('500x500')\n",
    "app.resizable(False, False)\n",
    "\n",
    "canvas = tk.Canvas(app, bg='grey')\n",
    "canvas.pack(expand=True, fill='both')\n",
    "\n",
    "canvas.create_oval(0, 0, 500, 500, fill='red')\n",
    "\n",
    "app.mainloop()\n"
   ]
  }
 ],
 "metadata": {
  "kernelspec": {
   "display_name": "Python 3 (ipykernel)",
   "language": "python",
   "name": "python3"
  },
  "language_info": {
   "codemirror_mode": {
    "name": "ipython",
    "version": 3
   },
   "file_extension": ".py",
   "mimetype": "text/x-python",
   "name": "python",
   "nbconvert_exporter": "python",
   "pygments_lexer": "ipython3",
   "version": "3.9.5"
  }
 },
 "nbformat": 4,
 "nbformat_minor": 5
}
