{
 "cells": [
  {
   "cell_type": "markdown",
   "id": "989a0997",
   "metadata": {},
   "source": [
    "# Notebook_08 - Choice widgets"
   ]
  },
  {
   "cell_type": "markdown",
   "id": "d447b565",
   "metadata": {},
   "source": [
    "In this notebook we will have a closer look at choice widgets, as they allow for better user experience and ensure that your application is responsive."
   ]
  },
  {
   "cell_type": "markdown",
   "id": "8942806b",
   "metadata": {},
   "source": [
    "### Radiobutton"
   ]
  },
  {
   "cell_type": "markdown",
   "id": "0b9484ca",
   "metadata": {},
   "source": [
    "Firstly let us look closely at `Radiobutton` widget. It lets you pick one of the options with the corresponding value. Chosen value tied with option is saved to variable specified, in our case `choice`. We set `checkbox_first` as default option."
   ]
  },
  {
   "cell_type": "code",
   "execution_count": 7,
   "id": "c5028b4e",
   "metadata": {},
   "outputs": [],
   "source": [
    "import tkinter as tk\n",
    "\n",
    "app = tk.Tk()\n",
    "app.title('Notebook_08')\n",
    "app.geometry('500x500')\n",
    "\n",
    "choice = tk.StringVar() \n",
    "checkbox_first = tk.Radiobutton(app, text='Option 1', value='Value 1', variable=choice)\n",
    "checkbox_second = tk.Radiobutton(app, text='Option 2', value='Value 2', variable=choice)\n",
    "checkbox_third = tk.Radiobutton(app, text='Option 3', value='Value 3', variable=choice)\n",
    "\n",
    "checkbox_first.select()\n",
    "\n",
    "checkbox_first.pack(expand=True, fill='y')\n",
    "checkbox_second.pack(expand=True, fill='y')\n",
    "checkbox_third.pack(expand=True, fill='y')\n",
    "\n",
    "label = tk.Label(app, text='Label')\n",
    "label.pack(expand=True, fill='both')\n",
    "\n",
    "def show():\n",
    "    label.configure(text=choice.get())\n",
    "\n",
    "button = tk.Button(app, text='Show option', command=show)\n",
    "button.pack(expand=True, fill='both')\n",
    "\n",
    "app.mainloop()\n"
   ]
  },
  {
   "cell_type": "markdown",
   "id": "d3b2bb97",
   "metadata": {},
   "source": [
    "Now if you click the button, label will change the text to chosen option's value. Pretty simple and almost as easy as `Entry`. Now we use `tk.StringVar()` to store values, as it is better and more convinient way. To restore contents of `choice` we simply invoke `get` method."
   ]
  },
  {
   "cell_type": "markdown",
   "id": "7f1133ea",
   "metadata": {},
   "source": [
    "### Checkbox"
   ]
  },
  {
   "cell_type": "markdown",
   "id": "1b947b69",
   "metadata": {},
   "source": [
    "Now let us examine binary-choice widget: `Checkbox`, which allows user to only choose between two options, which are usually stated as `Yes` and `No` or `True` and `False`."
   ]
  },
  {
   "cell_type": "code",
   "execution_count": null,
   "id": "ae0be9f3",
   "metadata": {},
   "outputs": [],
   "source": [
    "import tkinter as tk\n",
    "\n",
    "app = tk.Tk()\n",
    "app.title('Notebook_08')\n",
    "app.geometry('500x500')\n",
    "\n",
    "checkbox_var = tk.StringVar()\n",
    "\n",
    "\n",
    "checkbox = tk.Checkbutton(app,\n",
    "                          text='checkbox label',\n",
    "                          variable=checkbox_var,\n",
    "                          onvalue='Yes',\n",
    "                          offvalue='No')\n",
    "checkbox.pack(expand=True, fill='y')\n",
    "checkbox.select()\n",
    "\n",
    "label = tk.Label(app, text='Checkbox value')\n",
    "label.pack(expand=True, fill='y')\n",
    "\n",
    "\n",
    "def show():\n",
    "    label.configure(text=checkbox_var.get())\n",
    "\n",
    "\n",
    "button = tk.Button(app, text='See checkbox value', command=show)\n",
    "button.pack(expand=True, fill='both')\n",
    "\n",
    "app.mainloop()\n"
   ]
  },
  {
   "cell_type": "markdown",
   "id": "066854d6",
   "metadata": {},
   "source": [
    "Following example acts as previous one, except for the fact that now we have two options. Also, we can bind command to checkbox itself rather than to a button."
   ]
  },
  {
   "cell_type": "code",
   "execution_count": 1,
   "id": "7c3d2ec3",
   "metadata": {},
   "outputs": [],
   "source": [
    "import tkinter as tk\n",
    "\n",
    "app = tk.Tk()\n",
    "app.title('Notebook_08')\n",
    "app.geometry('500x500')\n",
    "\n",
    "checkbox_var = tk.StringVar()\n",
    "\n",
    "\n",
    "def show():\n",
    "    label.configure(text=checkbox_var.get())\n",
    "\n",
    "\n",
    "checkbox = tk.Checkbutton(app,\n",
    "                          text='checkbox label',\n",
    "                          variable=checkbox_var,\n",
    "                          onvalue='Yes',\n",
    "                          offvalue='No',\n",
    "                          command=show)\n",
    "checkbox.pack(expand=True, fill='y')\n",
    "checkbox.select()\n",
    "\n",
    "label = tk.Label(app, text='Checkbox value')\n",
    "label.pack(expand=True, fill='y')\n",
    "\n",
    "\n",
    "app.mainloop()\n"
   ]
  },
  {
   "cell_type": "markdown",
   "id": "47f2b0b5",
   "metadata": {},
   "source": [
    "### Spinbox"
   ]
  },
  {
   "cell_type": "markdown",
   "id": "5a415a23",
   "metadata": {},
   "source": [
    "This is useful widget for numeric values, as it allows for easier value change."
   ]
  },
  {
   "cell_type": "code",
   "execution_count": 2,
   "id": "ce1d388d",
   "metadata": {},
   "outputs": [],
   "source": [
    "import tkinter as tk\n",
    "\n",
    "app = tk.Tk()\n",
    "app.title('Notebook_08')\n",
    "app.geometry('500x500')\n",
    "\n",
    "current_value = tk.IntVar(value=0)\n",
    "\n",
    "\n",
    "def show():\n",
    "    label.configure(text=current_value.get())\n",
    "\n",
    "\n",
    "spin_box = tk.Spinbox(\n",
    "    app,\n",
    "    from_=0,\n",
    "    to=30,\n",
    "    textvariable=current_value,\n",
    "    command=show)\n",
    "spin_box.pack(expand=True)\n",
    "\n",
    "label = tk.Label(app, text='Spinbox value')\n",
    "label.pack(expand=True, fill='both')\n",
    "\n",
    "\n",
    "app.mainloop()\n"
   ]
  },
  {
   "cell_type": "markdown",
   "id": "cb29a3cb",
   "metadata": {},
   "source": [
    "## Tasks"
   ]
  },
  {
   "cell_type": "markdown",
   "id": "7d7d410e",
   "metadata": {},
   "source": [
    "1. Create application that changes label text based on both radiobutton value and checkbox state.\n",
    "2. Experiment with spinbox parameters `from_`, `to`.\n",
    "3. Try to come up with idea how to validate input each time value in spinbox changes*"
   ]
  }
 ],
 "metadata": {
  "kernelspec": {
   "display_name": "Python 3 (ipykernel)",
   "language": "python",
   "name": "python3"
  },
  "language_info": {
   "codemirror_mode": {
    "name": "ipython",
    "version": 3
   },
   "file_extension": ".py",
   "mimetype": "text/x-python",
   "name": "python",
   "nbconvert_exporter": "python",
   "pygments_lexer": "ipython3",
   "version": "3.9.5"
  }
 },
 "nbformat": 4,
 "nbformat_minor": 5
}
