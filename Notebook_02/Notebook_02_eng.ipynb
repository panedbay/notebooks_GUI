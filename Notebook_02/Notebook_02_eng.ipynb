{
 "cells": [
  {
   "cell_type": "markdown",
   "id": "9eec3fbb",
   "metadata": {},
   "source": [
    "# Notebook_02 - First Button\n",
    "\n",
    "In the previous example the application was not responsive, it was just a collection of text. But now it is time to add an element for interaction, in order to make the application more complete. "
   ]
  },
  {
   "cell_type": "markdown",
   "id": "0e504d53",
   "metadata": {},
   "source": [
    "### Widget Button\n",
    "\n",
    "This widget allows us fo creation of a button. Many of the button parameters can be customized, including size, style, but most importantly - the command can be binded to button, so when the exact button is pressed, some command is issued."
   ]
  },
  {
   "cell_type": "code",
   "execution_count": 2,
   "id": "c1f899c7",
   "metadata": {},
   "outputs": [],
   "source": [
    "import tkinter as tk\n",
    "\n",
    "app = tk.Tk()\n",
    "app.title('Notebook_02')\n",
    "app.geometry('300x300')\n",
    "\n",
    "\n",
    "def change_text():\n",
    "    button.configure(text='Button has been clicked')\n",
    "\n",
    "button = tk.Button(app, text=\"Button\", command=change_text)\n",
    "button.pack()\n",
    "\n",
    "app.mainloop()"
   ]
  },
  {
   "cell_type": "markdown",
   "id": "320056d2",
   "metadata": {},
   "source": [
    "При нажатии на данную кнопку надпись поменяется с `Button` на `Button has been clicked`\n",
    "\n",
    "Теперь слегка изменим программу, чтобы кнопка показывала сколько раз на нее нажали."
   ]
  },
  {
   "cell_type": "code",
   "execution_count": 1,
   "id": "1f38e1b9",
   "metadata": {},
   "outputs": [],
   "source": [
    "import tkinter as tk\n",
    "\n",
    "app = tk.Tk()\n",
    "app.title('Notebook_02')\n",
    "app.geometry('300x300')\n",
    "\n",
    "counter = 0\n",
    "\n",
    "def change_text():\n",
    "    global counter\n",
    "    counter += 1\n",
    "    button.configure(text=f'Button has been pressed {counter} times')\n",
    "\n",
    "button = tk.Button(app, text=\"Button\", command=change_text)\n",
    "button.pack()\n",
    "\n",
    "app.mainloop()"
   ]
  },
  {
   "cell_type": "markdown",
   "id": "0d2ded42",
   "metadata": {},
   "source": [
    "Now let us make the application to look a bit prettier. We will add widget Frame that allows grouping other widget inside it. We can create widget Frame and put some buttons inside it."
   ]
  },
  {
   "cell_type": "code",
   "execution_count": 3,
   "id": "3155e8d5",
   "metadata": {},
   "outputs": [],
   "source": [
    "import tkinter as tk\n",
    "\n",
    "app = tk.Tk()\n",
    "app.title('Notebook_02')\n",
    "app.geometry('300x300')\n",
    "\n",
    "frame = tk.Frame(app)\n",
    "frame.pack(expand=True, fill='both')\n",
    "\n",
    "button_left = tk.Button(frame, text=\"Left Button\")\n",
    "button_right = tk.Button(frame, text=\"Right Button\")\n",
    "\n",
    "button_left.pack(expand=True, fill='both', side='left')\n",
    "button_right.pack(expand=True, fill='both', side='right')\n",
    "\n",
    "app.mainloop()"
   ]
  },
  {
   "cell_type": "markdown",
   "id": "8790c98c",
   "metadata": {},
   "source": [
    "Опция `fill='both'` нужна чтобы виджет занимал все свободное пространство, опция `side` позволяет выбрать сторону на которой может находиться виджет.\n",
    "\n",
    "Рассмотри другой вариант расположения кнопок.\n",
    "\n",
    "Parameter `fill='both'` tells widget to take all the free space avaliable. Parameter side tells on which side the widget should be located.\n",
    "\n",
    "Let us consider another layout of buttons."
   ]
  },
  {
   "cell_type": "code",
   "execution_count": 1,
   "id": "91fd89c1",
   "metadata": {},
   "outputs": [],
   "source": [
    "import tkinter as tk\n",
    "\n",
    "app = tk.Tk()\n",
    "app.title('Notebook_02')\n",
    "app.geometry('300x300')\n",
    "\n",
    "frame_top = tk.Frame(app)\n",
    "frame_top.pack(expand=True, fill='both')\n",
    "\n",
    "frame_bottom = tk.Frame(app)\n",
    "frame_bottom.pack(expand=True, fill='both')\n",
    "\n",
    "button_left = tk.Button(frame_top, text='Left button')\n",
    "button_right = tk.Button(frame_top, text='Right button')\n",
    "button_bottom = tk.Button(frame_bottom, text='Bottom button')\n",
    "\n",
    "button_left.pack(expand=True, fill='both', side='left')\n",
    "button_right.pack(expand=True, fill='both', side='right')\n",
    "button_bottom.pack(expand=True ,fill='both', side='bottom')\n",
    "\n",
    "app.mainloop()"
   ]
  },
  {
   "cell_type": "markdown",
   "id": "5021633b",
   "metadata": {},
   "source": [
    "Now let us add some colors: fg - foreground sets the color of the button."
   ]
  },
  {
   "cell_type": "code",
   "execution_count": 2,
   "id": "6d55f303",
   "metadata": {},
   "outputs": [],
   "source": [
    "import tkinter as tk\n",
    "\n",
    "app = tk.Tk()\n",
    "app.title('Notebook_02')\n",
    "app.geometry('300x300')\n",
    "\n",
    "frame_top = tk.Frame(app)\n",
    "frame_top.pack(expand=True, fill='both')\n",
    "\n",
    "frame_bottom = tk.Frame(app)\n",
    "frame_bottom.pack(expand=True, fill='both')\n",
    "\n",
    "button_left = tk.Button(frame_top, text='Left button', fg='red')\n",
    "button_right = tk.Button(frame_top, text='Right button', fg='green')\n",
    "button_bottom = tk.Button(frame_bottom, text='Bottom button', fg='blue')\n",
    "\n",
    "button_left.pack(expand=True, fill='both', side='left')\n",
    "button_right.pack(expand=True, fill='both', side='right')\n",
    "button_bottom.pack(expand=True ,fill='both', side='bottom')\n",
    "\n",
    "app.mainloop()"
   ]
  },
  {
   "cell_type": "markdown",
   "id": "6fe95689",
   "metadata": {},
   "source": [
    "## Tasks\n",
    "\n",
    "1. Change the default size of application\n",
    "2. Change the name of the application\n",
    "3. Create four buttons that form a grid\n",
    "4. Create button, that will show current time (advanced)"
   ]
  },
  {
   "cell_type": "markdown",
   "id": "6539d4b5",
   "metadata": {},
   "source": [
    "## Solutions"
   ]
  },
  {
   "cell_type": "markdown",
   "id": "d5391117",
   "metadata": {},
   "source": [
    "### Task 4"
   ]
  },
  {
   "cell_type": "code",
   "execution_count": 3,
   "id": "e928f73e",
   "metadata": {},
   "outputs": [],
   "source": [
    "import datetime\n",
    "\n",
    "import tkinter as tk\n",
    "\n",
    "app = tk.Tk()\n",
    "app.title('Notebook_02')\n",
    "app.geometry('300x300')\n",
    "\n",
    "frame = tk.Frame(app)\n",
    "frame.pack(expand=True, fill='both')\n",
    "\n",
    "def show_time():\n",
    "    result = str(datetime.datetime.now().time())\n",
    "    button.configure(text=result)\n",
    "\n",
    "button = tk.Button(frame,\n",
    "                   text='Click for current time',\n",
    "                   command=show_time)\n",
    "\n",
    "button.pack(expand=True, fill='both')\n",
    "\n",
    "app.mainloop()"
   ]
  }
 ],
 "metadata": {
  "kernelspec": {
   "display_name": "Python 3 (ipykernel)",
   "language": "python",
   "name": "python3"
  },
  "language_info": {
   "codemirror_mode": {
    "name": "ipython",
    "version": 3
   },
   "file_extension": ".py",
   "mimetype": "text/x-python",
   "name": "python",
   "nbconvert_exporter": "python",
   "pygments_lexer": "ipython3",
   "version": "3.9.5"
  }
 },
 "nbformat": 4,
 "nbformat_minor": 5
}
