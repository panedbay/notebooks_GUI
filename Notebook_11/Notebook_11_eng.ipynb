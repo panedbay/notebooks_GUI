{
 "cells": [
  {
   "cell_type": "markdown",
   "id": "61b9db08",
   "metadata": {},
   "source": [
    "# Notebook_11 - Introduction to pandas"
   ]
  },
  {
   "cell_type": "markdown",
   "id": "33cb7e2f",
   "metadata": {},
   "source": [
    "Pandas is data analysis library that allows for easier data manipulation using python. It has become quite popular in recent years, fueled by interest of many people in Data Science and Machine Learning.\n",
    "\n",
    "To work with pandas it should be installed:"
   ]
  },
  {
   "cell_type": "code",
   "execution_count": 1,
   "id": "56b5bdbd",
   "metadata": {},
   "outputs": [
    {
     "name": "stdout",
     "output_type": "stream",
     "text": [
      "Requirement already satisfied: pandas in /Library/Frameworks/Python.framework/Versions/3.9/lib/python3.9/site-packages (1.3.4)\n",
      "Requirement already satisfied: numpy>=1.17.3 in /Library/Frameworks/Python.framework/Versions/3.9/lib/python3.9/site-packages (from pandas) (1.21.4)\n",
      "Requirement already satisfied: python-dateutil>=2.7.3 in /Library/Frameworks/Python.framework/Versions/3.9/lib/python3.9/site-packages (from pandas) (2.8.2)\n",
      "Requirement already satisfied: pytz>=2017.3 in /Library/Frameworks/Python.framework/Versions/3.9/lib/python3.9/site-packages (from pandas) (2021.3)\n",
      "Requirement already satisfied: six>=1.5 in /Library/Frameworks/Python.framework/Versions/3.9/lib/python3.9/site-packages (from python-dateutil>=2.7.3->pandas) (1.16.0)\n",
      "\u001b[33mWARNING: You are using pip version 21.3.1; however, version 23.1.2 is available.\n",
      "You should consider upgrading via the '/Library/Frameworks/Python.framework/Versions/3.9/bin/python3 -m pip install --upgrade pip' command.\u001b[0m\n"
     ]
    }
   ],
   "source": [
    "!pip install pandas"
   ]
  },
  {
   "cell_type": "markdown",
   "id": "95ca8bad",
   "metadata": {},
   "source": [
    "If everything went successful, you should be able to see pandas version."
   ]
  },
  {
   "cell_type": "code",
   "execution_count": 4,
   "id": "fb7a70c6",
   "metadata": {},
   "outputs": [
    {
     "name": "stdout",
     "output_type": "stream",
     "text": [
      "Name: pandas\r\n",
      "Version: 1.3.4\r\n",
      "Summary: Powerful data structures for data analysis, time series, and statistics\r\n",
      "Home-page: https://pandas.pydata.org\r\n",
      "Author: The Pandas Development Team\r\n",
      "Author-email: pandas-dev@python.org\r\n",
      "License: BSD-3-Clause\r\n",
      "Location: /Library/Frameworks/Python.framework/Versions/3.9/lib/python3.9/site-packages\r\n",
      "Requires: numpy, python-dateutil, pytz\r\n",
      "Required-by: seaborn, statsmodels\r\n"
     ]
    }
   ],
   "source": [
    "!pip show pandas"
   ]
  },
  {
   "cell_type": "markdown",
   "id": "f6eaee3e",
   "metadata": {},
   "source": [
    "If you see detailed message, everything is fine.\n",
    "\n",
    "Let us begin by creating simple dataframe. Dataframe is a data structure that allows for easier access and visualization."
   ]
  },
  {
   "cell_type": "code",
   "execution_count": 7,
   "id": "1e2248c8",
   "metadata": {},
   "outputs": [
    {
     "name": "stdout",
     "output_type": "stream",
     "text": [
      "   a  b   c\n",
      "1  4  7  10\n",
      "2  5  8  11\n",
      "3  6  9  12\n"
     ]
    }
   ],
   "source": [
    "import pandas as pd\n",
    "\n",
    "df = pd.DataFrame(\n",
    "{\"a\" : [4, 5, 6],\n",
    "\"b\" : [7, 8, 9],\n",
    "\"c\" : [10, 11, 12]},\n",
    "index = [1, 2, 3])\n",
    "\n",
    "print(df)"
   ]
  },
  {
   "cell_type": "markdown",
   "id": "59a73c84",
   "metadata": {},
   "source": [
    "That is all! We created first DataFrame in pandas. `pd` is common alias for pandas as it is short and commonly used (similar to tkinter as tk). We specify three number for each row and name every column. You may have noticed, that we used ordinary `print` to show the result. It is slightly different topic, but in python it is possible to set special behavior for some operations, such as `+`, `-`, etc. Similary, `print` can be directly invoked, for the sake of convinience."
   ]
  },
  {
   "cell_type": "code",
   "execution_count": 9,
   "id": "bbc72ab7",
   "metadata": {},
   "outputs": [
    {
     "name": "stdout",
     "output_type": "stream",
     "text": [
      "   a  b   c\n",
      "1  4  7  10\n",
      "2  5  8  11\n",
      "3  6  9  12\n"
     ]
    }
   ],
   "source": [
    "import pandas as pd\n",
    "\n",
    "df = pd.DataFrame(\n",
    "[[4, 7, 10],\n",
    "[5, 8, 11],\n",
    "[6, 9, 12]],\n",
    "index=[1, 2, 3],\n",
    "columns=['a', 'b', 'c'])\n",
    "\n",
    "print(df)"
   ]
  },
  {
   "cell_type": "markdown",
   "id": "c1945cd8",
   "metadata": {},
   "source": [
    "There is another way of creating same DataFrame. Probably, this way feels more natural, but it is not always the case. Also note, that `df` is a common name for DataFrame, so if you come across such naming, probably there is pandas DataFrame used somewhere.\n",
    "\n",
    "Also, if you are familiar with library `numpy` it can be very handy, as they are commonly used together (not to mention that some parts of pandas use numpy)"
   ]
  },
  {
   "cell_type": "markdown",
   "id": "ea4d0f9f",
   "metadata": {},
   "source": [
    "One of the concepts that is different from python but exists in pandas is `NaN` value. The closest python has is `None`. `NaN` acts as void, something that does not exist. Indeed, in real world applications there are sometimes cases that some data is missing or corrupted, in that case said data can be marked as NaN."
   ]
  },
  {
   "cell_type": "markdown",
   "id": "34ded15d",
   "metadata": {},
   "source": [
    "Another interesting thing about pandas is that its columns and rows can be viewed as separate entities, making it easier for user to make slices, extractions and other selection operations."
   ]
  },
  {
   "cell_type": "code",
   "execution_count": 12,
   "id": "7cd585d7",
   "metadata": {},
   "outputs": [
    {
     "name": "stdout",
     "output_type": "stream",
     "text": [
      "     A          B    C  D      E    F\n",
      "0  1.0 2013-01-02  1.0  3   test  foo\n",
      "1  1.0 2013-01-02  1.0  3  train  foo\n",
      "2  1.0 2013-01-02  1.0  3   test  foo\n",
      "3  1.0 2013-01-02  1.0  3  train  foo\n",
      "A           float64\n",
      "B    datetime64[ns]\n",
      "C           float32\n",
      "D             int32\n",
      "E          category\n",
      "F            object\n",
      "dtype: object\n"
     ]
    }
   ],
   "source": [
    "import pandas as pd\n",
    "import numpy as np\n",
    "\n",
    "df = pd.DataFrame(\n",
    "    {\n",
    "        \"A\": 1.0,\n",
    "        \"B\": pd.Timestamp(\"20130102\"),\n",
    "        \"C\": pd.Series(1, index=list(range(4)), dtype=\"float32\"),\n",
    "        \"D\": np.array([3] * 4, dtype=\"int32\"),\n",
    "        \"E\": pd.Categorical([\"test\", \"train\", \"test\", \"train\"]),\n",
    "        \"F\": \"foo\",\n",
    "    }\n",
    ")\n",
    "\n",
    "print(df)\n",
    "print(df.dtypes)"
   ]
  },
  {
   "cell_type": "markdown",
   "id": "875cbae8",
   "metadata": {},
   "source": [
    "Firstly, we import numpy, as it works with pandas and can be useful while making datastructures. Then we create DataFrame filled with values of different datatypes. As we see, the data types of columns are different but they peacfully coexist. Also note, that for such method of creating DataFrame it is possible to specify one value that will spread to all rows. This can be quite useful when creating dummy DataFrames"
   ]
  },
  {
   "cell_type": "markdown",
   "id": "6176849c",
   "metadata": {},
   "source": [
    "For large datasets one can use `tail` and `head` to view the very first or last rows."
   ]
  },
  {
   "cell_type": "code",
   "execution_count": 14,
   "id": "f643c534",
   "metadata": {},
   "outputs": [
    {
     "name": "stdout",
     "output_type": "stream",
     "text": [
      "     A          B    C  D      E    F\n",
      "0  1.0 2013-01-02  1.0  3   test  foo\n",
      "1  1.0 2013-01-02  1.0  3  train  foo\n",
      "     A          B    C  D      E    F\n",
      "2  1.0 2013-01-02  1.0  3   test  foo\n",
      "3  1.0 2013-01-02  1.0  3  train  foo\n"
     ]
    }
   ],
   "source": [
    "import pandas as pd\n",
    "import numpy as np\n",
    "\n",
    "df = pd.DataFrame(\n",
    "    {\n",
    "        \"A\": 1.0,\n",
    "        \"B\": pd.Timestamp(\"20130102\"),\n",
    "        \"C\": pd.Series(1, index=list(range(4)), dtype=\"float32\"),\n",
    "        \"D\": np.array([3] * 4, dtype=\"int32\"),\n",
    "        \"E\": pd.Categorical([\"test\", \"train\", \"test\", \"train\"]),\n",
    "        \"F\": \"foo\",\n",
    "    }\n",
    ")\n",
    "print(df.head(2))\n",
    "print(df.tail(2))"
   ]
  },
  {
   "cell_type": "markdown",
   "id": "68dfb2bf",
   "metadata": {},
   "source": [
    "Also a very useful tool is `describe`"
   ]
  },
  {
   "cell_type": "code",
   "execution_count": 20,
   "id": "fb712559",
   "metadata": {},
   "outputs": [
    {
     "name": "stdout",
     "output_type": "stream",
     "text": [
      "         A    C    D\n",
      "count  4.0  4.0  4.0\n",
      "mean   1.0  1.0  3.0\n",
      "std    0.0  0.0  0.0\n",
      "min    1.0  1.0  3.0\n",
      "25%    1.0  1.0  3.0\n",
      "50%    1.0  1.0  3.0\n",
      "75%    1.0  1.0  3.0\n",
      "max    1.0  1.0  3.0\n"
     ]
    }
   ],
   "source": [
    "import pandas as pd\n",
    "import numpy as np\n",
    "\n",
    "df = pd.DataFrame(\n",
    "    {\n",
    "        \"A\": 1.0,\n",
    "        \"B\": pd.Timestamp(\"20130102\"),\n",
    "        \"C\": pd.Series(1, index=list(range(4)), dtype=\"float32\"),\n",
    "        \"D\": np.array([3] * 4, dtype=\"int32\"),\n",
    "        \"E\": pd.Categorical([\"test\", \"train\", \"test\", \"train\"]),\n",
    "        \"F\": \"foo\",\n",
    "    }\n",
    ")\n",
    "print(df.describe())"
   ]
  },
  {
   "cell_type": "markdown",
   "id": "a97b6b97",
   "metadata": {},
   "source": [
    "It shows most commonly used statistic measurments with regards to all rows from the Data Frame."
   ]
  },
  {
   "cell_type": "markdown",
   "id": "e62cd6a0",
   "metadata": {},
   "source": [
    "Also it is really easy to show indices and columns of the dataset"
   ]
  },
  {
   "cell_type": "code",
   "execution_count": 23,
   "id": "84075b28",
   "metadata": {},
   "outputs": [
    {
     "name": "stdout",
     "output_type": "stream",
     "text": [
      "Int64Index([0, 1, 2, 3], dtype='int64')\n",
      "Index(['A', 'B', 'C', 'D', 'E', 'F'], dtype='object')\n"
     ]
    }
   ],
   "source": [
    "import pandas as pd\n",
    "import numpy as np\n",
    "\n",
    "df = pd.DataFrame(\n",
    "    {\n",
    "        \"A\": 1.0,\n",
    "        \"B\": pd.Timestamp(\"20130102\"),\n",
    "        \"C\": pd.Series(1, index=list(range(4)), dtype=\"float32\"),\n",
    "        \"D\": np.array([3] * 4, dtype=\"int32\"),\n",
    "        \"E\": pd.Categorical([\"test\", \"train\", \"test\", \"train\"]),\n",
    "        \"F\": \"foo\",\n",
    "    }\n",
    ")\n",
    "\n",
    "print(df.index)\n",
    "print(df.columns)"
   ]
  },
  {
   "cell_type": "markdown",
   "id": "d8fa7730",
   "metadata": {},
   "source": [
    "Also, the connection between pandas and numpy is mutual: it is really easy to convert DataFrame to numpy array"
   ]
  },
  {
   "cell_type": "code",
   "execution_count": 26,
   "id": "0debb26f",
   "metadata": {},
   "outputs": [
    {
     "data": {
      "text/plain": [
       "array([[1.0, Timestamp('2013-01-02 00:00:00'), 1.0, 3, 'test', 'foo'],\n",
       "       [1.0, Timestamp('2013-01-02 00:00:00'), 1.0, 3, 'train', 'foo'],\n",
       "       [1.0, Timestamp('2013-01-02 00:00:00'), 1.0, 3, 'test', 'foo'],\n",
       "       [1.0, Timestamp('2013-01-02 00:00:00'), 1.0, 3, 'train', 'foo']],\n",
       "      dtype=object)"
      ]
     },
     "execution_count": 26,
     "metadata": {},
     "output_type": "execute_result"
    }
   ],
   "source": [
    "import pandas as pd\n",
    "import numpy as np\n",
    "\n",
    "df = pd.DataFrame(\n",
    "    {\n",
    "        \"A\": 1.0,\n",
    "        \"B\": pd.Timestamp(\"20130102\"),\n",
    "        \"C\": pd.Series(1, index=list(range(4)), dtype=\"float32\"),\n",
    "        \"D\": np.array([3] * 4, dtype=\"int32\"),\n",
    "        \"E\": pd.Categorical([\"test\", \"train\", \"test\", \"train\"]),\n",
    "        \"F\": \"foo\",\n",
    "    }\n",
    ")\n",
    "\n",
    "arr = df.to_numpy()\n",
    "print(arr)"
   ]
  },
  {
   "cell_type": "markdown",
   "id": "78b74426",
   "metadata": {},
   "source": [
    "Also it is really easy to transpose your data"
   ]
  },
  {
   "cell_type": "code",
   "execution_count": 25,
   "id": "27cec54e",
   "metadata": {},
   "outputs": [
    {
     "data": {
      "text/html": [
       "<div>\n",
       "<style scoped>\n",
       "    .dataframe tbody tr th:only-of-type {\n",
       "        vertical-align: middle;\n",
       "    }\n",
       "\n",
       "    .dataframe tbody tr th {\n",
       "        vertical-align: top;\n",
       "    }\n",
       "\n",
       "    .dataframe thead th {\n",
       "        text-align: right;\n",
       "    }\n",
       "</style>\n",
       "<table border=\"1\" class=\"dataframe\">\n",
       "  <thead>\n",
       "    <tr style=\"text-align: right;\">\n",
       "      <th></th>\n",
       "      <th>0</th>\n",
       "      <th>1</th>\n",
       "      <th>2</th>\n",
       "      <th>3</th>\n",
       "    </tr>\n",
       "  </thead>\n",
       "  <tbody>\n",
       "    <tr>\n",
       "      <th>A</th>\n",
       "      <td>1.0</td>\n",
       "      <td>1.0</td>\n",
       "      <td>1.0</td>\n",
       "      <td>1.0</td>\n",
       "    </tr>\n",
       "    <tr>\n",
       "      <th>B</th>\n",
       "      <td>2013-01-02 00:00:00</td>\n",
       "      <td>2013-01-02 00:00:00</td>\n",
       "      <td>2013-01-02 00:00:00</td>\n",
       "      <td>2013-01-02 00:00:00</td>\n",
       "    </tr>\n",
       "    <tr>\n",
       "      <th>C</th>\n",
       "      <td>1.0</td>\n",
       "      <td>1.0</td>\n",
       "      <td>1.0</td>\n",
       "      <td>1.0</td>\n",
       "    </tr>\n",
       "    <tr>\n",
       "      <th>D</th>\n",
       "      <td>3</td>\n",
       "      <td>3</td>\n",
       "      <td>3</td>\n",
       "      <td>3</td>\n",
       "    </tr>\n",
       "    <tr>\n",
       "      <th>E</th>\n",
       "      <td>test</td>\n",
       "      <td>train</td>\n",
       "      <td>test</td>\n",
       "      <td>train</td>\n",
       "    </tr>\n",
       "    <tr>\n",
       "      <th>F</th>\n",
       "      <td>foo</td>\n",
       "      <td>foo</td>\n",
       "      <td>foo</td>\n",
       "      <td>foo</td>\n",
       "    </tr>\n",
       "  </tbody>\n",
       "</table>\n",
       "</div>"
      ],
      "text/plain": [
       "                     0                    1                    2  \\\n",
       "A                  1.0                  1.0                  1.0   \n",
       "B  2013-01-02 00:00:00  2013-01-02 00:00:00  2013-01-02 00:00:00   \n",
       "C                  1.0                  1.0                  1.0   \n",
       "D                    3                    3                    3   \n",
       "E                 test                train                 test   \n",
       "F                  foo                  foo                  foo   \n",
       "\n",
       "                     3  \n",
       "A                  1.0  \n",
       "B  2013-01-02 00:00:00  \n",
       "C                  1.0  \n",
       "D                    3  \n",
       "E                train  \n",
       "F                  foo  "
      ]
     },
     "execution_count": 25,
     "metadata": {},
     "output_type": "execute_result"
    }
   ],
   "source": [
    "df.T"
   ]
  },
  {
   "cell_type": "markdown",
   "id": "6e067e11",
   "metadata": {},
   "source": [
    "You may see that jupyter notebooks allow for certain interractions that other IDEs do not, such as an example above. However, these are not recommended, as if person does not have jupyter and only have the source code, said code will not work."
   ]
  },
  {
   "cell_type": "markdown",
   "id": "02ba1b6a",
   "metadata": {},
   "source": [
    "Lastly, pandas DataFrames have very handy column access. Similary to python, to access element just use square brackets"
   ]
  },
  {
   "cell_type": "code",
   "execution_count": 27,
   "id": "c33daf32",
   "metadata": {},
   "outputs": [
    {
     "name": "stdout",
     "output_type": "stream",
     "text": [
      "0     test\n",
      "1    train\n",
      "2     test\n",
      "3    train\n",
      "Name: E, dtype: category\n",
      "Categories (2, object): ['test', 'train']\n"
     ]
    }
   ],
   "source": [
    "import pandas as pd\n",
    "import numpy as np\n",
    "\n",
    "df = pd.DataFrame(\n",
    "    {\n",
    "        \"A\": 1.0,\n",
    "        \"B\": pd.Timestamp(\"20130102\"),\n",
    "        \"C\": pd.Series(1, index=list(range(4)), dtype=\"float32\"),\n",
    "        \"D\": np.array([3] * 4, dtype=\"int32\"),\n",
    "        \"E\": pd.Categorical([\"test\", \"train\", \"test\", \"train\"]),\n",
    "        \"F\": \"foo\",\n",
    "    }\n",
    ")\n",
    "\n",
    "print(df[\"E\"])"
   ]
  },
  {
   "cell_type": "markdown",
   "id": "bbf19f7e",
   "metadata": {},
   "source": [
    "## Tasks"
   ]
  },
  {
   "cell_type": "markdown",
   "id": "71d53e88",
   "metadata": {},
   "source": [
    "1. Install pandas if it is not installed yet\n",
    "2. Try all the code yourself and experiment with it\n",
    "3. Visit official pandas website https://pandas.pydata.org and find the documnetation section\n",
    "4. Create your own DataFrame and perform operations not listed in this notebook"
   ]
  },
  {
   "cell_type": "code",
   "execution_count": null,
   "id": "8df360cf",
   "metadata": {},
   "outputs": [],
   "source": []
  }
 ],
 "metadata": {
  "kernelspec": {
   "display_name": "Python 3 (ipykernel)",
   "language": "python",
   "name": "python3"
  },
  "language_info": {
   "codemirror_mode": {
    "name": "ipython",
    "version": 3
   },
   "file_extension": ".py",
   "mimetype": "text/x-python",
   "name": "python",
   "nbconvert_exporter": "python",
   "pygments_lexer": "ipython3",
   "version": "3.9.5"
  }
 },
 "nbformat": 4,
 "nbformat_minor": 5
}
