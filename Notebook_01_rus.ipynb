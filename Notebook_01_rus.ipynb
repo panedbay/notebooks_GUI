{
 "cells": [
  {
   "cell_type": "markdown",
   "id": "5d612118",
   "metadata": {},
   "source": [
    "# Notebook_01 - Введение\n",
    "\n",
    "Данная серия тетрадок нацелена на демонстрацию основных возможностей Python GUI используя библиотеку tkinter. Подразумевается что читатель имеет какой-либо опыт работы с Python, или программированием вообще, однако эти знания не являются обязательными."
   ]
  },
  {
   "cell_type": "markdown",
   "id": "2f2aa189",
   "metadata": {},
   "source": [
    "### Предвариетльные требования\n",
    "\n",
    "Перед началом работы следует убедиться что данные условия выполены:\n",
    "\n",
    "1. Успешно установлен Python версии >= 3.4 [(Скачать Python)](https://www.python.org/downloads/)\n",
    "2. Успешно установлен Jupyter Notebook [(Скачать Jupyter Notebook)](https://jupyter.org/install)\n",
    "3. На установленной версии Python работает tkinter (ячейка ниже проверяет этот пункт)"
   ]
  },
  {
   "cell_type": "code",
   "execution_count": 2,
   "id": "f7feb196",
   "metadata": {},
   "outputs": [
    {
     "name": "stdout",
     "output_type": "stream",
     "text": [
      "Успех!\n"
     ]
    }
   ],
   "source": [
    "try:\n",
    "    import tkinter\n",
    "    print(\"Успех!\")\n",
    "except:\n",
    "    print(\"Похоже tkinter не найден...\")"
   ]
  },
  {
   "cell_type": "markdown",
   "id": "84db23ec",
   "metadata": {},
   "source": [
    "Tkinter доступен для большинства популярных платформ, включая Windows, MacOS и многих дистрибутивов Linux, однако внешний вид графических интерфейсов различается между системами.\n",
    "\n",
    "Существует довольно простой способ проверки работоспособности tkinter. Запустите ячейку ниже (если требуется, поменяйте python3 на комманду вызова python интерпретатора)"
   ]
  },
  {
   "cell_type": "code",
   "execution_count": 1,
   "id": "de610441",
   "metadata": {},
   "outputs": [],
   "source": [
    "!python3 -m tkinter"
   ]
  },
  {
   "cell_type": "markdown",
   "id": "8854c7ab",
   "metadata": {},
   "source": [
    "Следует заметить что тетрадки Jupyter имеют приятный интерфейс и позволяют смешивать код и текст, серьезные GUI проекты состоят из многих файлов в разных директориях. В таком случае в тетрадке будет сказано, как использовать файлы вне тетрадки."
   ]
  },
  {
   "cell_type": "markdown",
   "id": "57366f75",
   "metadata": {},
   "source": [
    "### Привет мир!\n",
    " \n",
    "По традиции, первая программа в любой новой теме это `Привет, мир!` Попробуем создать простое графическое приложение которое будет содержать `Привет, мир!` и ничего более."
   ]
  },
  {
   "cell_type": "code",
   "execution_count": 3,
   "id": "8077c11b",
   "metadata": {},
   "outputs": [],
   "source": [
    "import tkinter as tk\n",
    "\n",
    "app = tk.Tk() # создать экземпляр приложения\n",
    "app.title('Hello, world!')\n",
    "app.geometry('300x300') # задать параметры размеров окна 300 на 300 (длина, ширина)\n",
    "\n",
    "app.mainloop() # данная строчка не дает приложению моментально закрыться"
   ]
  },
  {
   "cell_type": "markdown",
   "id": "af44c568",
   "metadata": {},
   "source": [
    "Далее, попробуем сделать простой виджет Label, который будет содержать текст `Мир, привет?`"
   ]
  },
  {
   "cell_type": "code",
   "execution_count": 5,
   "id": "9009a7bf",
   "metadata": {},
   "outputs": [],
   "source": [
    "import tkinter as tk\n",
    "\n",
    "app = tk.Tk()\n",
    "app.title('Привет, мир!')\n",
    "app.geometry('300x300')\n",
    "\n",
    "label_hello = tk.Label(app, text='Мир, привет?')\n",
    "label_hello.pack() # виджет необходимо упаковать перед размещением в приложении\n",
    "\n",
    "app.mainloop() "
   ]
  },
  {
   "cell_type": "code",
   "execution_count": null,
   "id": "aa120c54",
   "metadata": {},
   "outputs": [],
   "source": []
  }
 ],
 "metadata": {
  "kernelspec": {
   "display_name": "Python 3 (ipykernel)",
   "language": "python",
   "name": "python3"
  },
  "language_info": {
   "codemirror_mode": {
    "name": "ipython",
    "version": 3
   },
   "file_extension": ".py",
   "mimetype": "text/x-python",
   "name": "python",
   "nbconvert_exporter": "python",
   "pygments_lexer": "ipython3",
   "version": "3.9.5"
  }
 },
 "nbformat": 4,
 "nbformat_minor": 5
}
