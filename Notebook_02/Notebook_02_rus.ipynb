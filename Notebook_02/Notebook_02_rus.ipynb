{
 "cells": [
  {
   "cell_type": "markdown",
   "id": "9eec3fbb",
   "metadata": {},
   "source": [
    "# Notebook_02 - Первая кнопка\n",
    "\n",
    "До этого вся информация приложения не была интерактивной, это просто был набор текста который можно прочиать. Однако пришло время добавить элемент взаимодействия, чтобы получилось полноценное приложение"
   ]
  },
  {
   "cell_type": "markdown",
   "id": "0e504d53",
   "metadata": {},
   "source": [
    "### Виджет Button\n",
    "\n",
    "Данный виджет позволяет создать кнопку. Можно задать размер, стиль кнопки, но самое главное - можно задать действие которое будет выполняться при нажатии на кнопку."
   ]
  },
  {
   "cell_type": "code",
   "execution_count": 1,
   "id": "c1f899c7",
   "metadata": {},
   "outputs": [],
   "source": [
    "import tkinter as tk\n",
    "\n",
    "app = tk.Tk()\n",
    "app.title('Notebook_02')\n",
    "app.geometry('300x300')\n",
    "\n",
    "\n",
    "def change_text():\n",
    "    button.configure(text='На кнопку нажали')\n",
    "\n",
    "button = tk.Button(app, text=\"Кнопка\", command=change_text)\n",
    "button.pack()\n",
    "\n",
    "app.mainloop()"
   ]
  },
  {
   "cell_type": "markdown",
   "id": "320056d2",
   "metadata": {},
   "source": [
    "При нажатии на данную кнопку надпись поменяется с `Кнопка` на `На кнопку нажали`\n",
    "\n",
    "Теперь слегка изменим программу, чтобы кнопка показывала сколько раз на нее нажали."
   ]
  },
  {
   "cell_type": "code",
   "execution_count": 2,
   "id": "1f38e1b9",
   "metadata": {},
   "outputs": [],
   "source": [
    "import tkinter as tk\n",
    "\n",
    "app = tk.Tk()\n",
    "app.title('Notebook_02')\n",
    "app.geometry('300x300')\n",
    "\n",
    "counter = 0\n",
    "\n",
    "def change_text():\n",
    "    global counter\n",
    "    counter += 1\n",
    "    button.configure(text=f'Количество нажатий на кнопку: {counter}')\n",
    "\n",
    "button = tk.Button(app, text=\"Кнопка\", command=change_text)\n",
    "button.pack()\n",
    "\n",
    "app.mainloop()"
   ]
  },
  {
   "cell_type": "markdown",
   "id": "bc17f96d",
   "metadata": {},
   "source": [
    "# Важный комментарий к человеку смотрящему данные тетрадки!\n",
    "\n",
    "Авторп полностью понимает, что далеко не все части кода соответсвует стандартам, что многие практики устарели, неэффективны или просто считаются неправильными. Однако, данные тетрадки не подразумевают продвинутых знаний Python, а более рассчитаны на людей, столкнувшихся с этими темами впервые. Из-за этого качество кода может быть хуже, однако он проще для понимания и позволяет концентрироваться на сути конкретной темы, а не. на тонкостях работы с Python."
   ]
  },
  {
   "cell_type": "markdown",
   "id": "0d2ded42",
   "metadata": {},
   "source": [
    "Теперь сделаем так, чтобы наше приложение выглядело немного лучше. Добавим виджет Frame, это виджет с помощью которого можно группировать другие видежты, например можно создать один виджет Frame и поместить в него несколько Button."
   ]
  },
  {
   "cell_type": "code",
   "execution_count": 4,
   "id": "3155e8d5",
   "metadata": {},
   "outputs": [],
   "source": [
    "import tkinter as tk\n",
    "\n",
    "app = tk.Tk()\n",
    "app.title('Notebook_02')\n",
    "app.geometry('300x300')\n",
    "\n",
    "frame = tk.Frame(app)\n",
    "frame.pack(expand=True, fill='both')\n",
    "\n",
    "button_left = tk.Button(frame, text=\"Левая кнопка\")\n",
    "button_right = tk.Button(frame, text=\"Правая кнопка\")\n",
    "\n",
    "button_left.pack(expand=True, fill='both', side='left')\n",
    "button_right.pack(expand=True, fill='both', side='right')\n",
    "\n",
    "app.mainloop()"
   ]
  },
  {
   "cell_type": "markdown",
   "id": "8790c98c",
   "metadata": {},
   "source": [
    "Опция `fill='both'` нужна чтобы виджет занимал все свободное пространство, опция `side` позволяет выбрать сторону на которой может находиться виджет.\n",
    "\n",
    "Рассмотри другой вариант расположения кнопок."
   ]
  },
  {
   "cell_type": "code",
   "execution_count": 5,
   "id": "91fd89c1",
   "metadata": {},
   "outputs": [],
   "source": [
    "import tkinter as tk\n",
    "\n",
    "app = tk.Tk()\n",
    "app.title('Notebook_02')\n",
    "app.geometry('300x300')\n",
    "\n",
    "frame_top = tk.Frame(app)\n",
    "frame_top.pack(expand=True, fill='both')\n",
    "\n",
    "frame_bottom = tk.Frame(app)\n",
    "frame_bottom.pack(expand=True, fill='both')\n",
    "\n",
    "button_left = tk.Button(frame_top, text='Левая кнопка')\n",
    "button_right = tk.Button(frame_top, text='Правая кнопка')\n",
    "button_bottom = tk.Button(frame_bottom, text='Нижняя кнопка')\n",
    "\n",
    "button_left.pack(expand=True, fill='both', side='left')\n",
    "button_right.pack(expand=True, fill='both', side='right')\n",
    "button_bottom.pack(expand=True ,fill='both', side='bottom')\n",
    "\n",
    "app.mainloop()"
   ]
  },
  {
   "cell_type": "markdown",
   "id": "5021633b",
   "metadata": {},
   "source": [
    "Теперь добавим цвета в приложение: fg - foreground, задает цвет текста кнопки."
   ]
  },
  {
   "cell_type": "code",
   "execution_count": 6,
   "id": "6d55f303",
   "metadata": {},
   "outputs": [],
   "source": [
    "import tkinter as tk\n",
    "\n",
    "app = tk.Tk()\n",
    "app.title('Notebook_02')\n",
    "app.geometry('300x300')\n",
    "\n",
    "frame_top = tk.Frame(app)\n",
    "frame_top.pack(expand=True, fill='both')\n",
    "\n",
    "frame_bottom = tk.Frame(app)\n",
    "frame_bottom.pack(expand=True, fill='both')\n",
    "\n",
    "button_left = tk.Button(frame_top, text='Левая кнопка', fg='red')\n",
    "button_right = tk.Button(frame_top, text='Правая кнопка', fg='green')\n",
    "button_bottom = tk.Button(frame_bottom, text='Нижняя кнопка', fg='blue')\n",
    "\n",
    "button_left.pack(expand=True, fill='both', side='left')\n",
    "button_right.pack(expand=True, fill='both', side='right')\n",
    "button_bottom.pack(expand=True ,fill='both', side='bottom')\n",
    "\n",
    "app.mainloop()"
   ]
  },
  {
   "cell_type": "markdown",
   "id": "6fe95689",
   "metadata": {},
   "source": [
    "## Список заданий\n",
    "\n",
    "1. Изменить исходный размер приложения\n",
    "2. Изменить исходное название приложения\n",
    "3. Сделать 4 кнопки таким образом, чтобы они располагались в сетку (можно попробовать использовать grid, или показанный ранее способ с помощью side)\n",
    "4. Сделать кнопку, которая при нажатии будет показывать текущее время "
   ]
  },
  {
   "cell_type": "markdown",
   "id": "6539d4b5",
   "metadata": {},
   "source": [
    "## Решения"
   ]
  },
  {
   "cell_type": "markdown",
   "id": "d5391117",
   "metadata": {},
   "source": [
    "### 4"
   ]
  },
  {
   "cell_type": "code",
   "execution_count": 7,
   "id": "e928f73e",
   "metadata": {},
   "outputs": [],
   "source": [
    "import datetime\n",
    "\n",
    "import tkinter as tk\n",
    "\n",
    "app = tk.Tk()\n",
    "app.title('Notebook_02')\n",
    "app.geometry('300x300')\n",
    "\n",
    "frame = tk.Frame(app)\n",
    "frame.pack(expand=True, fill='both')\n",
    "\n",
    "def show_time():\n",
    "    result = str(datetime.datetime.now().time())\n",
    "    button.configure(text=result)\n",
    "\n",
    "button = tk.Button(frame,\n",
    "                   text='Нажми, чтобы узнать время',\n",
    "                   command=show_time)\n",
    "\n",
    "button.pack(expand=True, fill='both')\n",
    "\n",
    "app.mainloop()"
   ]
  },
  {
   "cell_type": "code",
   "execution_count": null,
   "id": "9b4f7e2a",
   "metadata": {},
   "outputs": [],
   "source": []
  }
 ],
 "metadata": {
  "kernelspec": {
   "display_name": "Python 3 (ipykernel)",
   "language": "python",
   "name": "python3"
  },
  "language_info": {
   "codemirror_mode": {
    "name": "ipython",
    "version": 3
   },
   "file_extension": ".py",
   "mimetype": "text/x-python",
   "name": "python",
   "nbconvert_exporter": "python",
   "pygments_lexer": "ipython3",
   "version": "3.9.5"
  }
 },
 "nbformat": 4,
 "nbformat_minor": 5
}
