{
 "cells": [
  {
   "cell_type": "markdown",
   "id": "e463ce43",
   "metadata": {},
   "source": [
    "# Notebook_05 - Information about tkinter structure"
   ]
  },
  {
   "cell_type": "markdown",
   "id": "1ba0c687",
   "metadata": {},
   "source": [
    "In this notebook there will be no tasks or challenges, just some information on tkinter.\n",
    "\n",
    "Tkinter is best combined with OOP(Object Oriented Programming), as the structure itself resembels object relation(app, that has many widgets, which have parameters and methods, etc). Additionaly, using `class` allows for easier encapsulation. Instead of using `global` and having many variables with names like `button_color`, `entry_color`, etc, one can use class.\n",
    "\n",
    "Le us create simple application ###"
   ]
  },
  {
   "cell_type": "code",
   "execution_count": 1,
   "id": "834d351b",
   "metadata": {},
   "outputs": [],
   "source": [
    "import tkinter as tk\n",
    "\n",
    "\n",
    "class SimpleApp(tk.Tk):\n",
    "    def __init__(self, title, geometry):\n",
    "        super().__init__()\n",
    "        self.title(title)\n",
    "        self.geometry(geometry)\n",
    "        self.message = 'class variable'\n",
    "\n",
    "\n",
    "app = SimpleApp('Notebook_05', '300x300')\n",
    "print(app.message)\n",
    "app.mainloop()"
   ]
  },
  {
   "cell_type": "markdown",
   "id": "45168cbd",
   "metadata": {},
   "source": [
    "Our programm looks much cleaner, but what are these strange symbols? Firstly, we create `SimpleApp` class, which is inheritated from `tk.Tk` class. This will allow for easier control of both `Tk.tk` and our custom features. Then we initialise our superclass, which is `tk.Tk` (previously we did it by calling `tk.Tk()`. Then we set `title` and `geometry` that class got from parameters. Note, that method `__init__` is invoked when object is called. When you call `tk.Tk()` its `__init__` method is called. Similary, when doing `app = SimpleApp('Notebook_05', '300x300')`, `__init__` is called with parameters `title` and `geometry`. If you want to have some variable exclusively inside the class, use `self.variable`, for example, `self.message`. This will allow to call `app.message`, to get the title of the application (which can be quite useful in other cases).\n",
    "\n",
    "OOP is rather difficult and important topic, this is just illustrative example, it is highly advised to use other resiurces, to get better understanding of OOP!\n",
    "\n",
    "In this example we just print our message that is preloaded. Now let us move to a more complex example:"
   ]
  },
  {
   "cell_type": "markdown",
   "id": "f0ba9644",
   "metadata": {},
   "source": [
    "Now we create two objects of `SimpleApp` that will run in parallel. Additionaly, we will be able to set only parameters we want to be different!"
   ]
  },
  {
   "cell_type": "code",
   "execution_count": 1,
   "id": "5fe738b6",
   "metadata": {},
   "outputs": [],
   "source": [
    "import tkinter as tk\n",
    "\n",
    "\n",
    "class SimpleApp(tk.Tk):\n",
    "    def __init__(self, label_name='default_label', title='Notebook_05', geometry='300x300'):\n",
    "        super().__init__()\n",
    "        self.title(title)\n",
    "        self.geometry(geometry)\n",
    "        self.label = tk.Label(self, text=label_name)\n",
    "        self.label.pack(expand=True, fill='both')\n",
    "\n",
    "\n",
    "app_first = SimpleApp('First window label', geometry='400x400')\n",
    "app_second = SimpleApp('Second window label', title='Notebook_05_second')\n",
    "app_third = SimpleApp()\n",
    "\n",
    "app_first.mainloop()\n",
    "app_second.mainloop()\n",
    "app_third.mainloop()"
   ]
  },
  {
   "cell_type": "markdown",
   "id": "14efda7a",
   "metadata": {},
   "source": [
    "As you see, there are multiple ways to call `SimpleApp` class. `app_third` class is called without any arguments, so default ones are applied. One can use this in order to create more standartized classes and consistent applications. For instance, one can resize application to fullscreen, set language, color theme and other preferences, so user can use your custom class and do not care about such things.\n",
    "\n",
    "(Logically only one mainloop is required, but for better understanding there are 3 of them.)"
   ]
  },
  {
   "cell_type": "markdown",
   "id": "cf0c770b",
   "metadata": {},
   "source": [
    "### Be cautious!!!\n",
    "Code below is turning application fullscreen, user may have trouble exiting it when running code from jupyter. For better safety execute this code in your python environment!!! (PYcharm, VSCode, Atom, etc)"
   ]
  },
  {
   "cell_type": "code",
   "execution_count": 2,
   "id": "0f1e161a",
   "metadata": {},
   "outputs": [
    {
     "name": "stderr",
     "output_type": "stream",
     "text": [
      "invalid command name \"exit\"\n",
      "    while executing\n",
      "\"exit\"\n",
      "invalid command name \"exit\"\n",
      "    while executing\n",
      "\"exit\"\n",
      "invalid command name \"exit\"\n",
      "    while executing\n",
      "\"exit\"\n"
     ]
    },
    {
     "ename": "KeyboardInterrupt",
     "evalue": "",
     "output_type": "error",
     "traceback": [
      "\u001b[0;31m---------------------------------------------------------------------------\u001b[0m",
      "\u001b[0;31mKeyboardInterrupt\u001b[0m                         Traceback (most recent call last)",
      "\u001b[0;32m/var/folders/_p/1y6h5fhx31774rfgnbs3t93w0000gn/T/ipykernel_5238/2236705218.py\u001b[0m in \u001b[0;36m<module>\u001b[0;34m\u001b[0m\n\u001b[1;32m     14\u001b[0m \u001b[0;34m\u001b[0m\u001b[0m\n\u001b[1;32m     15\u001b[0m \u001b[0mapp_first\u001b[0m \u001b[0;34m=\u001b[0m \u001b[0mSimpleApp\u001b[0m\u001b[0;34m(\u001b[0m\u001b[0;34m)\u001b[0m\u001b[0;34m\u001b[0m\u001b[0;34m\u001b[0m\u001b[0m\n\u001b[0;32m---> 16\u001b[0;31m \u001b[0mapp_first\u001b[0m\u001b[0;34m.\u001b[0m\u001b[0mmainloop\u001b[0m\u001b[0;34m(\u001b[0m\u001b[0;34m)\u001b[0m\u001b[0;34m\u001b[0m\u001b[0;34m\u001b[0m\u001b[0m\n\u001b[0m",
      "\u001b[0;32m/Library/Frameworks/Python.framework/Versions/3.9/lib/python3.9/tkinter/__init__.py\u001b[0m in \u001b[0;36mmainloop\u001b[0;34m(self, n)\u001b[0m\n\u001b[1;32m   1427\u001b[0m     \u001b[0;32mdef\u001b[0m \u001b[0mmainloop\u001b[0m\u001b[0;34m(\u001b[0m\u001b[0mself\u001b[0m\u001b[0;34m,\u001b[0m \u001b[0mn\u001b[0m\u001b[0;34m=\u001b[0m\u001b[0;36m0\u001b[0m\u001b[0;34m)\u001b[0m\u001b[0;34m:\u001b[0m\u001b[0;34m\u001b[0m\u001b[0;34m\u001b[0m\u001b[0m\n\u001b[1;32m   1428\u001b[0m         \u001b[0;34m\"\"\"Call the mainloop of Tk.\"\"\"\u001b[0m\u001b[0;34m\u001b[0m\u001b[0;34m\u001b[0m\u001b[0m\n\u001b[0;32m-> 1429\u001b[0;31m         \u001b[0mself\u001b[0m\u001b[0;34m.\u001b[0m\u001b[0mtk\u001b[0m\u001b[0;34m.\u001b[0m\u001b[0mmainloop\u001b[0m\u001b[0;34m(\u001b[0m\u001b[0mn\u001b[0m\u001b[0;34m)\u001b[0m\u001b[0;34m\u001b[0m\u001b[0;34m\u001b[0m\u001b[0m\n\u001b[0m\u001b[1;32m   1430\u001b[0m \u001b[0;34m\u001b[0m\u001b[0m\n\u001b[1;32m   1431\u001b[0m     \u001b[0;32mdef\u001b[0m \u001b[0mquit\u001b[0m\u001b[0;34m(\u001b[0m\u001b[0mself\u001b[0m\u001b[0;34m)\u001b[0m\u001b[0;34m:\u001b[0m\u001b[0;34m\u001b[0m\u001b[0;34m\u001b[0m\u001b[0m\n",
      "\u001b[0;31mKeyboardInterrupt\u001b[0m: "
     ]
    }
   ],
   "source": [
    "import tkinter as tk\n",
    "\n",
    "\n",
    "class SimpleApp(tk.Tk):\n",
    "    def __init__(self, label_name='Notebook_05', title='Notebook_05', geometry='1280x768', is_fulscreen=True):\n",
    "        super().__init__()\n",
    "        self.title(title)\n",
    "        self.geometry(geometry)\n",
    "        # bg - background, fg - foreground\n",
    "        self.label = tk.Label(self, text=label_name, bg='grey', fg='pink')\n",
    "        self.label.pack(expand=True, fill='both')\n",
    "        self.attributes(\"-fullscreen\", is_fulscreen)\n",
    "\n",
    "\n",
    "app_first = SimpleApp()\n",
    "app_first.mainloop()"
   ]
  },
  {
   "cell_type": "markdown",
   "id": "69dec999",
   "metadata": {},
   "source": [
    "Note that `Button`, `Entry`, `Label` are also classes, meaning that they have some attributes and methods. Let us examine `Label` class."
   ]
  },
  {
   "cell_type": "code",
   "execution_count": 1,
   "id": "e96fd2f6",
   "metadata": {},
   "outputs": [
    {
     "name": "stdout",
     "output_type": "stream",
     "text": [
      "[('_Misc__winfo_getint', <bound method Misc.__winfo_getint of <tkinter.Label object .!label>>), ('_Misc__winfo_parseitem', <bound method Misc.__winfo_parseitem of <tkinter.Label object .!label>>), ('__class__', <class 'tkinter.Label'>), ('__delattr__', <method-wrapper '__delattr__' of Label object at 0x7fae07a07df0>), ('__dict__', {'widgetName': 'label', 'master': <tkinter.Tk object .>, 'tk': <_tkinter.tkapp object at 0x7fae07a0e8b0>, '_name': '!label', '_w': '.!label', 'children': {}, '_tclCommands': []}), ('__dir__', <built-in method __dir__ of Label object at 0x7fae07a07df0>), ('__doc__', 'Label widget which can display text and bitmaps.'), ('__eq__', <method-wrapper '__eq__' of Label object at 0x7fae07a07df0>), ('__format__', <built-in method __format__ of Label object at 0x7fae07a07df0>), ('__ge__', <method-wrapper '__ge__' of Label object at 0x7fae07a07df0>), ('__getattribute__', <method-wrapper '__getattribute__' of Label object at 0x7fae07a07df0>), ('__getitem__', <bound method Misc.cget of <tkinter.Label object .!label>>), ('__gt__', <method-wrapper '__gt__' of Label object at 0x7fae07a07df0>), ('__hash__', <method-wrapper '__hash__' of Label object at 0x7fae07a07df0>), ('__init__', <bound method Label.__init__ of <tkinter.Label object .!label>>), ('__init_subclass__', <built-in method __init_subclass__ of type object at 0x7fae026e5620>), ('__le__', <method-wrapper '__le__' of Label object at 0x7fae07a07df0>), ('__lt__', <method-wrapper '__lt__' of Label object at 0x7fae07a07df0>), ('__module__', 'tkinter'), ('__ne__', <method-wrapper '__ne__' of Label object at 0x7fae07a07df0>), ('__new__', <built-in method __new__ of type object at 0x10da64bb0>), ('__reduce__', <built-in method __reduce__ of Label object at 0x7fae07a07df0>), ('__reduce_ex__', <built-in method __reduce_ex__ of Label object at 0x7fae07a07df0>), ('__repr__', <bound method Misc.__repr__ of <tkinter.Label object .!label>>), ('__setattr__', <method-wrapper '__setattr__' of Label object at 0x7fae07a07df0>), ('__setitem__', <bound method Misc.__setitem__ of <tkinter.Label object .!label>>), ('__sizeof__', <built-in method __sizeof__ of Label object at 0x7fae07a07df0>), ('__str__', <bound method Misc.__str__ of <tkinter.Label object .!label>>), ('__subclasshook__', <built-in method __subclasshook__ of type object at 0x7fae026e5620>), ('__weakref__', None), ('_bind', <bound method Misc._bind of <tkinter.Label object .!label>>), ('_configure', <bound method Misc._configure of <tkinter.Label object .!label>>), ('_displayof', <bound method Misc._displayof of <tkinter.Label object .!label>>), ('_do', <bound method BaseWidget._do of <tkinter.Label object .!label>>), ('_getboolean', <bound method Misc._getboolean of <tkinter.Label object .!label>>), ('_getconfigure', <bound method Misc._getconfigure of <tkinter.Label object .!label>>), ('_getconfigure1', <bound method Misc._getconfigure1 of <tkinter.Label object .!label>>), ('_getdoubles', <bound method Misc._getdoubles of <tkinter.Label object .!label>>), ('_getints', <bound method Misc._getints of <tkinter.Label object .!label>>), ('_grid_configure', <bound method Misc._grid_configure of <tkinter.Label object .!label>>), ('_gridconvvalue', <bound method Misc._gridconvvalue of <tkinter.Label object .!label>>), ('_last_child_ids', None), ('_name', '!label'), ('_nametowidget', <bound method Misc.nametowidget of <tkinter.Label object .!label>>), ('_noarg_', ['_noarg_']), ('_options', <bound method Misc._options of <tkinter.Label object .!label>>), ('_register', <bound method Misc._register of <tkinter.Label object .!label>>), ('_report_exception', <bound method Misc._report_exception of <tkinter.Label object .!label>>), ('_root', <bound method Misc._root of <tkinter.Label object .!label>>), ('_setup', <bound method BaseWidget._setup of <tkinter.Label object .!label>>), ('_subst_format', ('%#', '%b', '%f', '%h', '%k', '%s', '%t', '%w', '%x', '%y', '%A', '%E', '%K', '%N', '%W', '%T', '%X', '%Y', '%D')), ('_subst_format_str', '%# %b %f %h %k %s %t %w %x %y %A %E %K %N %W %T %X %Y %D'), ('_substitute', <bound method Misc._substitute of <tkinter.Label object .!label>>), ('_tclCommands', []), ('_w', '.!label'), ('_windowingsystem', 'aqua'), ('after', <bound method Misc.after of <tkinter.Label object .!label>>), ('after_cancel', <bound method Misc.after_cancel of <tkinter.Label object .!label>>), ('after_idle', <bound method Misc.after_idle of <tkinter.Label object .!label>>), ('anchor', <bound method Misc.grid_anchor of <tkinter.Label object .!label>>), ('bbox', <bound method Misc.grid_bbox of <tkinter.Label object .!label>>), ('bell', <bound method Misc.bell of <tkinter.Label object .!label>>), ('bind', <bound method Misc.bind of <tkinter.Label object .!label>>), ('bind_all', <bound method Misc.bind_all of <tkinter.Label object .!label>>), ('bind_class', <bound method Misc.bind_class of <tkinter.Label object .!label>>), ('bindtags', <bound method Misc.bindtags of <tkinter.Label object .!label>>), ('cget', <bound method Misc.cget of <tkinter.Label object .!label>>), ('children', {}), ('clipboard_append', <bound method Misc.clipboard_append of <tkinter.Label object .!label>>), ('clipboard_clear', <bound method Misc.clipboard_clear of <tkinter.Label object .!label>>), ('clipboard_get', <bound method Misc.clipboard_get of <tkinter.Label object .!label>>), ('columnconfigure', <bound method Misc.grid_columnconfigure of <tkinter.Label object .!label>>), ('config', <bound method Misc.configure of <tkinter.Label object .!label>>), ('configure', <bound method Misc.configure of <tkinter.Label object .!label>>), ('deletecommand', <bound method Misc.deletecommand of <tkinter.Label object .!label>>), ('destroy', <bound method BaseWidget.destroy of <tkinter.Label object .!label>>), ('event_add', <bound method Misc.event_add of <tkinter.Label object .!label>>), ('event_delete', <bound method Misc.event_delete of <tkinter.Label object .!label>>), ('event_generate', <bound method Misc.event_generate of <tkinter.Label object .!label>>), ('event_info', <bound method Misc.event_info of <tkinter.Label object .!label>>), ('focus', <bound method Misc.focus_set of <tkinter.Label object .!label>>), ('focus_displayof', <bound method Misc.focus_displayof of <tkinter.Label object .!label>>), ('focus_force', <bound method Misc.focus_force of <tkinter.Label object .!label>>), ('focus_get', <bound method Misc.focus_get of <tkinter.Label object .!label>>), ('focus_lastfor', <bound method Misc.focus_lastfor of <tkinter.Label object .!label>>), ('focus_set', <bound method Misc.focus_set of <tkinter.Label object .!label>>), ('forget', <bound method Pack.pack_forget of <tkinter.Label object .!label>>), ('getboolean', <bound method Misc.getboolean of <tkinter.Label object .!label>>), ('getdouble', <bound method Misc.getdouble of <tkinter.Label object .!label>>), ('getint', <bound method Misc.getint of <tkinter.Label object .!label>>), ('getvar', <bound method Misc.getvar of <tkinter.Label object .!label>>), ('grab_current', <bound method Misc.grab_current of <tkinter.Label object .!label>>), ('grab_release', <bound method Misc.grab_release of <tkinter.Label object .!label>>), ('grab_set', <bound method Misc.grab_set of <tkinter.Label object .!label>>), ('grab_set_global', <bound method Misc.grab_set_global of <tkinter.Label object .!label>>), ('grab_status', <bound method Misc.grab_status of <tkinter.Label object .!label>>), ('grid', <bound method Grid.grid_configure of <tkinter.Label object .!label>>), ('grid_anchor', <bound method Misc.grid_anchor of <tkinter.Label object .!label>>), ('grid_bbox', <bound method Misc.grid_bbox of <tkinter.Label object .!label>>), ('grid_columnconfigure', <bound method Misc.grid_columnconfigure of <tkinter.Label object .!label>>), ('grid_configure', <bound method Grid.grid_configure of <tkinter.Label object .!label>>), ('grid_forget', <bound method Grid.grid_forget of <tkinter.Label object .!label>>), ('grid_info', <bound method Grid.grid_info of <tkinter.Label object .!label>>), ('grid_location', <bound method Misc.grid_location of <tkinter.Label object .!label>>), ('grid_propagate', <bound method Misc.grid_propagate of <tkinter.Label object .!label>>), ('grid_remove', <bound method Grid.grid_remove of <tkinter.Label object .!label>>), ('grid_rowconfigure', <bound method Misc.grid_rowconfigure of <tkinter.Label object .!label>>), ('grid_size', <bound method Misc.grid_size of <tkinter.Label object .!label>>), ('grid_slaves', <bound method Misc.grid_slaves of <tkinter.Label object .!label>>), ('image_names', <bound method Misc.image_names of <tkinter.Label object .!label>>), ('image_types', <bound method Misc.image_types of <tkinter.Label object .!label>>), ('info', <bound method Pack.pack_info of <tkinter.Label object .!label>>), ('keys', <bound method Misc.keys of <tkinter.Label object .!label>>), ('lift', <bound method Misc.tkraise of <tkinter.Label object .!label>>), ('location', <bound method Misc.grid_location of <tkinter.Label object .!label>>), ('lower', <bound method Misc.lower of <tkinter.Label object .!label>>), ('mainloop', <bound method Misc.mainloop of <tkinter.Label object .!label>>), ('master', <tkinter.Tk object .>), ('nametowidget', <bound method Misc.nametowidget of <tkinter.Label object .!label>>), ('option_add', <bound method Misc.option_add of <tkinter.Label object .!label>>), ('option_clear', <bound method Misc.option_clear of <tkinter.Label object .!label>>), ('option_get', <bound method Misc.option_get of <tkinter.Label object .!label>>), ('option_readfile', <bound method Misc.option_readfile of <tkinter.Label object .!label>>), ('pack', <bound method Pack.pack_configure of <tkinter.Label object .!label>>), ('pack_configure', <bound method Pack.pack_configure of <tkinter.Label object .!label>>), ('pack_forget', <bound method Pack.pack_forget of <tkinter.Label object .!label>>), ('pack_info', <bound method Pack.pack_info of <tkinter.Label object .!label>>), ('pack_propagate', <bound method Misc.pack_propagate of <tkinter.Label object .!label>>), ('pack_slaves', <bound method Misc.pack_slaves of <tkinter.Label object .!label>>), ('place', <bound method Place.place_configure of <tkinter.Label object .!label>>), ('place_configure', <bound method Place.place_configure of <tkinter.Label object .!label>>), ('place_forget', <bound method Place.place_forget of <tkinter.Label object .!label>>), ('place_info', <bound method Place.place_info of <tkinter.Label object .!label>>), ('place_slaves', <bound method Misc.place_slaves of <tkinter.Label object .!label>>), ('propagate', <bound method Misc.pack_propagate of <tkinter.Label object .!label>>), ('quit', <bound method Misc.quit of <tkinter.Label object .!label>>), ('register', <bound method Misc._register of <tkinter.Label object .!label>>), ('rowconfigure', <bound method Misc.grid_rowconfigure of <tkinter.Label object .!label>>), ('selection_clear', <bound method Misc.selection_clear of <tkinter.Label object .!label>>), ('selection_get', <bound method Misc.selection_get of <tkinter.Label object .!label>>), ('selection_handle', <bound method Misc.selection_handle of <tkinter.Label object .!label>>), ('selection_own', <bound method Misc.selection_own of <tkinter.Label object .!label>>), ('selection_own_get', <bound method Misc.selection_own_get of <tkinter.Label object .!label>>), ('send', <bound method Misc.send of <tkinter.Label object .!label>>), ('setvar', <bound method Misc.setvar of <tkinter.Label object .!label>>), ('size', <bound method Misc.grid_size of <tkinter.Label object .!label>>), ('slaves', <bound method Misc.pack_slaves of <tkinter.Label object .!label>>), ('tk', <_tkinter.tkapp object at 0x7fae07a0e8b0>), ('tk_bisque', <bound method Misc.tk_bisque of <tkinter.Label object .!label>>), ('tk_focusFollowsMouse', <bound method Misc.tk_focusFollowsMouse of <tkinter.Label object .!label>>), ('tk_focusNext', <bound method Misc.tk_focusNext of <tkinter.Label object .!label>>), ('tk_focusPrev', <bound method Misc.tk_focusPrev of <tkinter.Label object .!label>>), ('tk_setPalette', <bound method Misc.tk_setPalette of <tkinter.Label object .!label>>), ('tk_strictMotif', <bound method Misc.tk_strictMotif of <tkinter.Label object .!label>>), ('tkraise', <bound method Misc.tkraise of <tkinter.Label object .!label>>), ('unbind', <bound method Misc.unbind of <tkinter.Label object .!label>>), ('unbind_all', <bound method Misc.unbind_all of <tkinter.Label object .!label>>), ('unbind_class', <bound method Misc.unbind_class of <tkinter.Label object .!label>>), ('update', <bound method Misc.update of <tkinter.Label object .!label>>), ('update_idletasks', <bound method Misc.update_idletasks of <tkinter.Label object .!label>>), ('wait_variable', <bound method Misc.wait_variable of <tkinter.Label object .!label>>), ('wait_visibility', <bound method Misc.wait_visibility of <tkinter.Label object .!label>>), ('wait_window', <bound method Misc.wait_window of <tkinter.Label object .!label>>), ('waitvar', <bound method Misc.wait_variable of <tkinter.Label object .!label>>), ('widgetName', 'label'), ('winfo_atom', <bound method Misc.winfo_atom of <tkinter.Label object .!label>>), ('winfo_atomname', <bound method Misc.winfo_atomname of <tkinter.Label object .!label>>), ('winfo_cells', <bound method Misc.winfo_cells of <tkinter.Label object .!label>>), ('winfo_children', <bound method Misc.winfo_children of <tkinter.Label object .!label>>), ('winfo_class', <bound method Misc.winfo_class of <tkinter.Label object .!label>>), ('winfo_colormapfull', <bound method Misc.winfo_colormapfull of <tkinter.Label object .!label>>), ('winfo_containing', <bound method Misc.winfo_containing of <tkinter.Label object .!label>>), ('winfo_depth', <bound method Misc.winfo_depth of <tkinter.Label object .!label>>), ('winfo_exists', <bound method Misc.winfo_exists of <tkinter.Label object .!label>>), ('winfo_fpixels', <bound method Misc.winfo_fpixels of <tkinter.Label object .!label>>), ('winfo_geometry', <bound method Misc.winfo_geometry of <tkinter.Label object .!label>>), ('winfo_height', <bound method Misc.winfo_height of <tkinter.Label object .!label>>), ('winfo_id', <bound method Misc.winfo_id of <tkinter.Label object .!label>>), ('winfo_interps', <bound method Misc.winfo_interps of <tkinter.Label object .!label>>), ('winfo_ismapped', <bound method Misc.winfo_ismapped of <tkinter.Label object .!label>>), ('winfo_manager', <bound method Misc.winfo_manager of <tkinter.Label object .!label>>), ('winfo_name', <bound method Misc.winfo_name of <tkinter.Label object .!label>>), ('winfo_parent', <bound method Misc.winfo_parent of <tkinter.Label object .!label>>), ('winfo_pathname', <bound method Misc.winfo_pathname of <tkinter.Label object .!label>>), ('winfo_pixels', <bound method Misc.winfo_pixels of <tkinter.Label object .!label>>), ('winfo_pointerx', <bound method Misc.winfo_pointerx of <tkinter.Label object .!label>>), ('winfo_pointerxy', <bound method Misc.winfo_pointerxy of <tkinter.Label object .!label>>), ('winfo_pointery', <bound method Misc.winfo_pointery of <tkinter.Label object .!label>>), ('winfo_reqheight', <bound method Misc.winfo_reqheight of <tkinter.Label object .!label>>), ('winfo_reqwidth', <bound method Misc.winfo_reqwidth of <tkinter.Label object .!label>>), ('winfo_rgb', <bound method Misc.winfo_rgb of <tkinter.Label object .!label>>), ('winfo_rootx', <bound method Misc.winfo_rootx of <tkinter.Label object .!label>>), ('winfo_rooty', <bound method Misc.winfo_rooty of <tkinter.Label object .!label>>), ('winfo_screen', <bound method Misc.winfo_screen of <tkinter.Label object .!label>>), ('winfo_screencells', <bound method Misc.winfo_screencells of <tkinter.Label object .!label>>), ('winfo_screendepth', <bound method Misc.winfo_screendepth of <tkinter.Label object .!label>>), ('winfo_screenheight', <bound method Misc.winfo_screenheight of <tkinter.Label object .!label>>), ('winfo_screenmmheight', <bound method Misc.winfo_screenmmheight of <tkinter.Label object .!label>>), ('winfo_screenmmwidth', <bound method Misc.winfo_screenmmwidth of <tkinter.Label object .!label>>), ('winfo_screenvisual', <bound method Misc.winfo_screenvisual of <tkinter.Label object .!label>>), ('winfo_screenwidth', <bound method Misc.winfo_screenwidth of <tkinter.Label object .!label>>), ('winfo_server', <bound method Misc.winfo_server of <tkinter.Label object .!label>>), ('winfo_toplevel', <bound method Misc.winfo_toplevel of <tkinter.Label object .!label>>), ('winfo_viewable', <bound method Misc.winfo_viewable of <tkinter.Label object .!label>>), ('winfo_visual', <bound method Misc.winfo_visual of <tkinter.Label object .!label>>), ('winfo_visualid', <bound method Misc.winfo_visualid of <tkinter.Label object .!label>>), ('winfo_visualsavailable', <bound method Misc.winfo_visualsavailable of <tkinter.Label object .!label>>), ('winfo_vrootheight', <bound method Misc.winfo_vrootheight of <tkinter.Label object .!label>>), ('winfo_vrootwidth', <bound method Misc.winfo_vrootwidth of <tkinter.Label object .!label>>), ('winfo_vrootx', <bound method Misc.winfo_vrootx of <tkinter.Label object .!label>>), ('winfo_vrooty', <bound method Misc.winfo_vrooty of <tkinter.Label object .!label>>), ('winfo_width', <bound method Misc.winfo_width of <tkinter.Label object .!label>>), ('winfo_x', <bound method Misc.winfo_x of <tkinter.Label object .!label>>), ('winfo_y', <bound method Misc.winfo_y of <tkinter.Label object .!label>>)]\n"
     ]
    }
   ],
   "source": [
    "import tkinter as tk\n",
    "import inspect\n",
    "\n",
    "app = tk.Tk()\n",
    "app.title('Notebook_05')\n",
    "app.geometry('300x300')\n",
    "\n",
    "label = tk.Label(app, text='label_text')\n",
    "label.pack(expand=True, fill='both')\n",
    "\n",
    "print(inspect.getmembers(label))\n",
    "\n",
    "app.mainloop()"
   ]
  },
  {
   "cell_type": "markdown",
   "id": "0da6ff9b",
   "metadata": {},
   "source": [
    "Tkinter is cross-platform, suitable for diferrent resolutions and desktop environments ,while also versalite. That is why there are so many members inside `Label` class."
   ]
  },
  {
   "cell_type": "markdown",
   "id": "4a7549e1",
   "metadata": {},
   "source": [
    "Some IDEs have autocompletion, that allows for easier search for class members. Additionaly, you can always browse source code of package you need."
   ]
  },
  {
   "cell_type": "code",
   "execution_count": 2,
   "id": "9918eabd",
   "metadata": {},
   "outputs": [
    {
     "data": {
      "text/plain": [
       "['/Library/Frameworks/Python.framework/Versions/3.9/lib/python3.9/site-packages']"
      ]
     },
     "execution_count": 2,
     "metadata": {},
     "output_type": "execute_result"
    }
   ],
   "source": [
    "import site; site.getsitepackages()"
   ]
  },
  {
   "cell_type": "markdown",
   "id": "0dd76fec",
   "metadata": {},
   "source": [
    "This code shows path to your site-packages. However, tkinter is (usually) built-in module, so location can be diferrent."
   ]
  },
  {
   "cell_type": "code",
   "execution_count": null,
   "id": "346b99fa",
   "metadata": {},
   "outputs": [],
   "source": [
    "import tkinter\n",
    "print(tkinter.__file__)"
   ]
  },
  {
   "cell_type": "markdown",
   "id": "04222d69",
   "metadata": {},
   "source": [
    "    def mainloop(self, n=0):\n",
    "        \"\"\"Call the mainloop of Tk.\"\"\"\n",
    "        self.tk.mainloop(n)\n",
    "\n",
    "Code above is source code of `mainloop` method."
   ]
  },
  {
   "cell_type": "markdown",
   "id": "a47df764",
   "metadata": {},
   "source": [
    "## Tasks\n",
    "\n",
    "There are no tasks, just keep in mind that `class` is very important topic. To get better understanding you can try to learn and remember what words {`attribute`, `method`, `instance`, `PIE`} and others mean. For more information:\n",
    "\n",
    "https://realpython.com/python3-object-oriented-programming\n",
    "\n",
    "https://docs.python.org/3/tutorial/classes.html\n",
    "\n",
    "https://www.w3schools.com/python/python_classes.asp"
   ]
  },
  {
   "cell_type": "code",
   "execution_count": null,
   "id": "5200aa7f",
   "metadata": {},
   "outputs": [],
   "source": []
  }
 ],
 "metadata": {
  "kernelspec": {
   "display_name": "Python 3 (ipykernel)",
   "language": "python",
   "name": "python3"
  },
  "language_info": {
   "codemirror_mode": {
    "name": "ipython",
    "version": 3
   },
   "file_extension": ".py",
   "mimetype": "text/x-python",
   "name": "python",
   "nbconvert_exporter": "python",
   "pygments_lexer": "ipython3",
   "version": "3.9.5"
  }
 },
 "nbformat": 4,
 "nbformat_minor": 5
}
