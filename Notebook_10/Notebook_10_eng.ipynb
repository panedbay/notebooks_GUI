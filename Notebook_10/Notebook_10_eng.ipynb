{
 "cells": [
  {
   "cell_type": "markdown",
   "id": "9d14aeaa",
   "metadata": {},
   "source": [
    "# Notebook_10 - Final Project"
   ]
  },
  {
   "cell_type": "markdown",
   "id": "b05bf9db",
   "metadata": {},
   "source": [
    "In this notebook we will create application that is somewhat similar to calculator. Such application is illustrative and yet simple."
   ]
  },
  {
   "cell_type": "code",
   "execution_count": 4,
   "id": "94b1f4bf",
   "metadata": {},
   "outputs": [],
   "source": [
    "import tkinter as tk\n",
    "\n",
    "app = tk.Tk()\n",
    "app.title('Notebook_10')\n",
    "app.geometry('500x500')\n",
    "\n",
    "# Create first operand\n",
    "value_first = tk.IntVar(value=0)\n",
    "spin_box_first = tk.Spinbox(\n",
    "    app,\n",
    "    from_=-1*(2**16),\n",
    "    to=2**16,\n",
    "    textvariable=value_first)\n",
    "spin_box_first.pack(fill='x')\n",
    "\n",
    "# Create operation choice\n",
    "choice = tk.StringVar()\n",
    "checkbox_first = tk.Radiobutton(app, text='Addition', value='sum', variable=choice)\n",
    "checkbox_second = tk.Radiobutton(app, text='Subtraction', value='sub', variable=choice)\n",
    "checkbox_third = tk.Radiobutton(app, text='Multiplication', value='mul', variable=choice)\n",
    "checkbox_four = tk.Radiobutton(app, text='Division', value='div', variable=choice)\n",
    "\n",
    "checkbox_first.select()\n",
    "\n",
    "checkbox_first.pack(expand=True, fill='x')\n",
    "checkbox_second.pack(expand=True, fill='x')\n",
    "checkbox_third.pack(expand=True, fill='x')\n",
    "checkbox_four.pack(expand=True, fill='x')\n",
    "\n",
    "\n",
    "# Create second operand\n",
    "value_second = tk.IntVar(value=0)\n",
    "spin_box_second = tk.Spinbox(\n",
    "    app,\n",
    "    from_=-1*(2**16),\n",
    "    to=2**16,\n",
    "    textvariable=value_second)\n",
    "spin_box_second.pack(fill='x')\n",
    "\n",
    "\n",
    "def calculate(e=None):\n",
    "    operation = choice.get()\n",
    "    result = ''\n",
    "    try:\n",
    "        operand_first = int(spin_box_first.get())\n",
    "        operand_second = int(spin_box_second.get())\n",
    "    except ValueError:\n",
    "        label.configure(text='Invalid arguments')\n",
    "        return\n",
    "    if operation == 'sum':\n",
    "        result = str(operand_first + operand_second)\n",
    "    elif operation == 'sub':\n",
    "        result = str(operand_first - operand_second)\n",
    "    elif operation == 'mul':\n",
    "        result = str(operand_first * operand_second)\n",
    "    elif operation == 'div':\n",
    "        try:\n",
    "            result = str(operand_first / operand_second)\n",
    "        except ZeroDivisionError:\n",
    "            label.configure(text='Zero division')\n",
    "            return\n",
    "    label.configure(text=result)\n",
    "\n",
    "\n",
    "label = tk.Label(app, text='Result will be here', bg='white smoke')\n",
    "label.pack(expand=True, fill='both')\n",
    "\n",
    "button = tk.Button(app, text='Calculate', command=calculate)\n",
    "button.pack(expand=True, fill='both')\n",
    "\n",
    "app.mainloop()\n"
   ]
  },
  {
   "cell_type": "markdown",
   "id": "dab46d53",
   "metadata": {},
   "source": [
    "Let us explain the application. There are two spinboxes for numeric input which are checked on the button click. There is a check that disallows anything that cannot be converted to integer. Then there are four radiobuttons that allow user to pick the operation. By default the selected operation is addition. Finally, there is a label, that displays the answer to the expresion (or disaplys the error if something went wrong)."
   ]
  },
  {
   "cell_type": "markdown",
   "id": "00ee8320",
   "metadata": {},
   "source": [
    "That is it! We have successfully created working application that makes sense! Of course, you probably have chosen different topic and made application that is not similar to this one, but it is ok, as your teaching assistant checks it. That is all, as final word, revise `Notebook_05`. Good luck!"
   ]
  },
  {
   "cell_type": "code",
   "execution_count": null,
   "id": "8720d9a7",
   "metadata": {},
   "outputs": [],
   "source": []
  }
 ],
 "metadata": {
  "kernelspec": {
   "display_name": "Python 3 (ipykernel)",
   "language": "python",
   "name": "python3"
  },
  "language_info": {
   "codemirror_mode": {
    "name": "ipython",
    "version": 3
   },
   "file_extension": ".py",
   "mimetype": "text/x-python",
   "name": "python",
   "nbconvert_exporter": "python",
   "pygments_lexer": "ipython3",
   "version": "3.9.5"
  }
 },
 "nbformat": 4,
 "nbformat_minor": 5
}
