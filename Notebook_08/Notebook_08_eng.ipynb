{
 "cells": [
  {
   "cell_type": "markdown",
   "id": "989a0997",
   "metadata": {},
   "source": [
    "# Choice widgets"
   ]
  },
  {
   "cell_type": "markdown",
   "id": "d447b565",
   "metadata": {},
   "source": [
    "In this notebook we will have a closer look at choice widgets, as they allow for better user experience and ensure that your application is responsive."
   ]
  },
  {
   "cell_type": "markdown",
   "id": "0b9484ca",
   "metadata": {},
   "source": [
    "Firstly let us look closely at `Radiobutton` widget. It lets you pick one of the options with the corresponding value. Chosen value tied with option is saved to variable specified, in our case `choice`. We set `checkbox_first` as default option."
   ]
  },
  {
   "cell_type": "code",
   "execution_count": 7,
   "id": "c5028b4e",
   "metadata": {},
   "outputs": [],
   "source": [
    "import tkinter as tk\n",
    "import random\n",
    "\n",
    "app = tk.Tk()\n",
    "app.title('Notebook_08')\n",
    "app.geometry('500x500')\n",
    "\n",
    "choice = tk.StringVar() \n",
    "checkbox_first = tk.Radiobutton(app, text='Option 1', value='Value 1', variable=choice)\n",
    "checkbox_second = tk.Radiobutton(app, text='Option 2', value='Value 2', variable=choice)\n",
    "checkbox_third = tk.Radiobutton(app, text='Option 3', value='Value 3', variable=choice)\n",
    "\n",
    "checkbox_first.select()\n",
    "\n",
    "checkbox_first.pack(expand=True, fill='y')\n",
    "checkbox_second.pack(expand=True, fill='y')\n",
    "checkbox_third.pack(expand=True, fill='y')\n",
    "\n",
    "label = tk.Label(app, text='Label')\n",
    "label.pack(expand=True, fill='both')\n",
    "\n",
    "def show():\n",
    "    label.configure(text=choice.get())\n",
    "\n",
    "button = tk.Button(app, text='Show option', command=show)\n",
    "button.pack(expand=True, fill='both')\n",
    "\n",
    "app.mainloop()\n"
   ]
  },
  {
   "cell_type": "markdown",
   "id": "4c3a7629",
   "metadata": {},
   "source": [
    "Now if you click the button, label will change the text to chosen option's value. Pretty simple and almost as easy as `Entry`. Now we use `tk.StringVar()` to store values, as it is better and more convinient way. To restore contents of `choice` we simply invoke `get` method."
   ]
  },
  {
   "cell_type": "code",
   "execution_count": null,
   "id": "a6e787f8",
   "metadata": {},
   "outputs": [],
   "source": []
  }
 ],
 "metadata": {
  "kernelspec": {
   "display_name": "Python 3 (ipykernel)",
   "language": "python",
   "name": "python3"
  },
  "language_info": {
   "codemirror_mode": {
    "name": "ipython",
    "version": 3
   },
   "file_extension": ".py",
   "mimetype": "text/x-python",
   "name": "python",
   "nbconvert_exporter": "python",
   "pygments_lexer": "ipython3",
   "version": "3.9.5"
  }
 },
 "nbformat": 4,
 "nbformat_minor": 5
}
