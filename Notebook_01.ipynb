{
 "cells": [
  {
   "cell_type": "markdown",
   "id": "5d612118",
   "metadata": {},
   "source": [
    "# Notebook_01 - Introduction\n",
    "\n",
    "These series of jupyter notebooks are designed to show the basics of Python GUI (Graphical User Interface) using tkinter. It is assumed that the reader has some experience with Python, or programming in general, though it is not obligatory."
   ]
  },
  {
   "cell_type": "markdown",
   "id": "2f2aa189",
   "metadata": {},
   "source": [
    "### Prerequisites\n",
    "\n",
    "There are some required conditions that should be met in order to program:\n",
    "\n",
    "1. You have working Python with version >= 3.4 [(Install Python)](https://www.python.org/downloads/)\n",
    "2. You have successfully installed jupyter notebook [(Install Jupyter Notebook)](https://jupyter.org/install)\n",
    "3. You have tkinter with your working Python (next cell checks for that)"
   ]
  },
  {
   "cell_type": "code",
   "execution_count": 4,
   "id": "f7feb196",
   "metadata": {},
   "outputs": [
    {
     "name": "stdout",
     "output_type": "stream",
     "text": [
      "Success!\n"
     ]
    }
   ],
   "source": [
    "try:\n",
    "    import tkinter\n",
    "    print(\"Success!\")\n",
    "except:\n",
    "    print(\"tkinter doesn't seem to be working...\")"
   ]
  },
  {
   "cell_type": "markdown",
   "id": "84db23ec",
   "metadata": {},
   "source": [
    "Tkinter implementation is avaliable for most common platforms, including Windows, MacOS and many Linux distros, although the visual representation could differ across operating systems.\n",
    "\n",
    "Also, there is a simple way to see minimal tkinter example without any effort (change python3 to your python command if needed):"
   ]
  },
  {
   "cell_type": "code",
   "execution_count": 5,
   "id": "de610441",
   "metadata": {},
   "outputs": [],
   "source": [
    "!python3 -m tkinter"
   ]
  },
  {
   "cell_type": "markdown",
   "id": "8854c7ab",
   "metadata": {},
   "source": [
    "It is important to note that notebooks are generally good for education purposes, but as GUI apps can grow to thousands lines of code, sometimes materials like code can be stored in .py files in other directories"
   ]
  },
  {
   "cell_type": "markdown",
   "id": "57366f75",
   "metadata": {},
   "source": [
    "### Hello world!\n",
    "\n",
    "As a tradition, the very first example is Hello, world! Let's try to create graphical application that will have Hello, world! as a title and nothing more. "
   ]
  },
  {
   "cell_type": "code",
   "execution_count": 18,
   "id": "8077c11b",
   "metadata": {},
   "outputs": [],
   "source": [
    "import tkinter as tk\n",
    "\n",
    "app = tk.Tk() # create application instance\n",
    "app.title('Hello, world!')\n",
    "app.geometry('300x300') # set application size as width x height\n",
    "\n",
    "app.mainloop() # loop for application to be displayed continiously"
   ]
  },
  {
   "cell_type": "markdown",
   "id": "af44c568",
   "metadata": {},
   "source": [
    "Next let's create simple label on the app:"
   ]
  },
  {
   "cell_type": "code",
   "execution_count": 25,
   "id": "9009a7bf",
   "metadata": {},
   "outputs": [],
   "source": [
    "import tkinter as tk\n",
    "\n",
    "app = tk.Tk() # create application instance\n",
    "app.title('Hello, world!')\n",
    "app.geometry('300x300') # set application size as width x height\n",
    "\n",
    "label_hello = tk.Label(app, text='World, hello?')\n",
    "label_hello.pack()\n",
    "\n",
    "app.mainloop() # loop for application to be displayed continiously"
   ]
  },
  {
   "cell_type": "code",
   "execution_count": null,
   "id": "aa120c54",
   "metadata": {},
   "outputs": [],
   "source": []
  }
 ],
 "metadata": {
  "kernelspec": {
   "display_name": "Python 3 (ipykernel)",
   "language": "python",
   "name": "python3"
  },
  "language_info": {
   "codemirror_mode": {
    "name": "ipython",
    "version": 3
   },
   "file_extension": ".py",
   "mimetype": "text/x-python",
   "name": "python",
   "nbconvert_exporter": "python",
   "pygments_lexer": "ipython3",
   "version": "3.10.9"
  }
 },
 "nbformat": 4,
 "nbformat_minor": 5
}
