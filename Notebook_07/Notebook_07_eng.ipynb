{
 "cells": [
  {
   "cell_type": "markdown",
   "id": "49d3d32b",
   "metadata": {},
   "source": [
    "# Notebook_07 - Menu"
   ]
  },
  {
   "cell_type": "markdown",
   "id": "6dbb4bb7",
   "metadata": {},
   "source": [
    "In almost any operating system there are menubars. Sometimes, applications themselves can have own separate menubars. They make navigation easier and allow for better logic partition. Even jupyter has such menubar. On the top of the page you can see sections named `File`, `Edit`, `View`, etc."
   ]
  },
  {
   "cell_type": "code",
   "execution_count": 8,
   "id": "9fbf89a9",
   "metadata": {},
   "outputs": [],
   "source": [
    "import tkinter as tk\n",
    "\n",
    "app = tk.Tk()\n",
    "app.title('Notebook_07')\n",
    "app.geometry('500x500')\n",
    "\n",
    "# 1\n",
    "menubar = tk.Menu()\n",
    "app.configure(menu=menubar)\n",
    "\n",
    "# 2\n",
    "file_menu = tk.Menu(menubar)\n",
    "file_menu.add_command(\n",
    "    label='Exit',\n",
    "    command=app.destroy,\n",
    ")\n",
    "\n",
    "# 3\n",
    "menubar.add_cascade(\n",
    "    label=\"File\",\n",
    "    menu=file_menu\n",
    ")\n",
    "\n",
    "\n",
    "app.mainloop()\n"
   ]
  },
  {
   "cell_type": "markdown",
   "id": "c9532dda",
   "metadata": {},
   "source": [
    "Let us breakdown this complex piece of code. Section `1` creates new tkinter menu and changes application menu to newly created one. Secondly, we need to create another menubar inside initital one. Indeed, when we click `File` section in jupyter, there is a drop-down menu that has many options. Section `2` creates new section with name `Exit` that destroys application (exits it). Finally, `3` adds our submenu with name `File`"
   ]
  },
  {
   "cell_type": "markdown",
   "id": "5a592a37",
   "metadata": {},
   "source": [
    "Now let us replicate one jupyter menubar section. To keep things simple, menubar sections do not do anything."
   ]
  },
  {
   "cell_type": "code",
   "execution_count": 9,
   "id": "35a9576e",
   "metadata": {},
   "outputs": [],
   "source": [
    "import tkinter as tk\n",
    "\n",
    "app = tk.Tk()\n",
    "app.title('Notebook_07')\n",
    "app.geometry('500x500')\n",
    "\n",
    "# 1\n",
    "menubar = tk.Menu()\n",
    "app.configure(menu=menubar)\n",
    "\n",
    "# 2\n",
    "file_menu = tk.Menu(menubar)\n",
    "file_menu.add_command(label='New Notebook')\n",
    "file_menu.add_command(label='Open...')\n",
    "file_menu.add_command(label='Make a Copy...')\n",
    "file_menu.add_command(label='Save as...')\n",
    "file_menu.add_command(label='Rename...')\n",
    "file_menu.add_command(label='Save and Checkpoint')\n",
    "file_menu.add_command(label='Revert to Checkpoint')\n",
    "file_menu.add_command(label='Print Preview')\n",
    "file_menu.add_command(label='Download as')\n",
    "file_menu.add_command(label='Close and Halt')\n",
    "\n",
    "\n",
    "# 3\n",
    "menubar.add_cascade(\n",
    "    label=\"File\",\n",
    "    menu=file_menu\n",
    ")\n",
    "\n",
    "\n",
    "app.mainloop()\n"
   ]
  },
  {
   "cell_type": "markdown",
   "id": "c61f9858",
   "metadata": {},
   "source": [
    "By the same logic, one can make submenu inside another submenu and so on. In real world applications, try not to make many submenus inside each other, as it makes things complex. Genereally, third level nesting is enough.\n",
    "\n",
    "Also, it is a good practice to bind menu items to keys."
   ]
  },
  {
   "cell_type": "code",
   "execution_count": 1,
   "id": "d0654d05",
   "metadata": {},
   "outputs": [],
   "source": [
    "import tkinter as tk\n",
    "\n",
    "app = tk.Tk()\n",
    "app.title('Notebook_07')\n",
    "app.geometry('500x500')\n",
    "\n",
    "\n",
    "menubar = tk.Menu()\n",
    "app.configure(menu=menubar)\n",
    "\n",
    "\n",
    "def destroy(event=None):\n",
    "    app.destroy()\n",
    "\n",
    "\n",
    "file_menu = tk.Menu(menubar)\n",
    "file_menu.add_command(\n",
    "    label='Exit',\n",
    "    command=destroy,\n",
    "    accelerator='Control+e'\n",
    ")\n",
    "\n",
    "menubar.add_cascade(\n",
    "    label=\"File\",\n",
    "    menu=file_menu\n",
    ")\n",
    "\n",
    "app.bind('<Control-e>', destroy)\n",
    "\n",
    "app.mainloop()\n"
   ]
  },
  {
   "cell_type": "markdown",
   "id": "3606ebe6",
   "metadata": {},
   "source": [
    "## Tasks"
   ]
  },
  {
   "cell_type": "markdown",
   "id": "e41341a8",
   "metadata": {},
   "source": [
    "As menu is somewhat complex and unique topic, just experiment with it. Try to implement menu into existing projects from previous notebooks. "
   ]
  }
 ],
 "metadata": {
  "kernelspec": {
   "display_name": "Python 3 (ipykernel)",
   "language": "python",
   "name": "python3"
  },
  "language_info": {
   "codemirror_mode": {
    "name": "ipython",
    "version": 3
   },
   "file_extension": ".py",
   "mimetype": "text/x-python",
   "name": "python",
   "nbconvert_exporter": "python",
   "pygments_lexer": "ipython3",
   "version": "3.9.5"
  }
 },
 "nbformat": 4,
 "nbformat_minor": 5
}
